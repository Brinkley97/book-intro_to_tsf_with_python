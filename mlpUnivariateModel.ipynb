{
 "cells": [
  {
   "cell_type": "markdown",
   "id": "b081fda8-6ea3-4792-b53d-ac411aafbbb6",
   "metadata": {},
   "source": [
    "# Univariate MLP Models"
   ]
  },
  {
   "cell_type": "markdown",
   "id": "02de425e-31a4-4f3a-940e-1276d1bd43ef",
   "metadata": {},
   "source": [
    "# Imports + Load Data"
   ]
  },
  {
   "cell_type": "code",
   "execution_count": 20,
   "id": "9eddd50c-6c17-44b6-a069-2b66a2b54336",
   "metadata": {},
   "outputs": [],
   "source": [
    "import math\n",
    "\n",
    "from keras.layers import Dense\n",
    "from keras.models import Sequential\n",
    "from sklearn.metrics import mean_squared_error"
   ]
  },
  {
   "cell_type": "code",
   "execution_count": 2,
   "id": "bf879e95-d122-4efd-8849-7439da284bce",
   "metadata": {},
   "outputs": [],
   "source": [
    "BASE = '/Users/brinkley97/Documents/development/'\n",
    "PATH_TO_BOOK = 'book-intro_to_tsf_with_python/'"
   ]
  },
  {
   "cell_type": "markdown",
   "id": "a9bc30b5-1b9d-4b4e-afb3-0b85ac6ec944",
   "metadata": {},
   "source": [
    "# Converting Univariate Time Series (UTS) to Supervised Machine Learning (SML) problem"
   ]
  },
  {
   "cell_type": "code",
   "execution_count": 3,
   "id": "ae9265f7-4139-4366-b394-f12c59273adf",
   "metadata": {},
   "outputs": [
    {
     "data": {
      "text/plain": [
       "[10, 20, 30, 40, 50, 60, 70, 80, 90]"
      ]
     },
     "execution_count": 3,
     "metadata": {},
     "output_type": "execute_result"
    }
   ],
   "source": [
    "univariate_time_series = [10, 20, 30, 40, 50, 60, 70, 80, 90]\n",
    "univariate_time_series"
   ]
  },
  {
   "cell_type": "code",
   "execution_count": 4,
   "id": "fdab5b87-6a97-457f-a7ef-4274d95b124a",
   "metadata": {},
   "outputs": [],
   "source": [
    "TS_AS_SML_FILE = BASE + PATH_TO_BOOK + '3-timeSeriesAsSupervisedLearning.ipynb'"
   ]
  },
  {
   "cell_type": "code",
   "execution_count": 5,
   "id": "e06b81ff-261c-4695-a4bb-0027a66ae7af",
   "metadata": {},
   "outputs": [],
   "source": [
    "# %load TS_AS_SML_FILE\n",
    "/Users/brinkley97/Documents/development/book-intro_to_tsf_with_python/3-timeSeriesAsSupervisedLearning.ipynb"
   ]
  },
  {
   "cell_type": "code",
   "execution_count": 6,
   "id": "74e72252-dbd3-431c-8915-f396c38facc0",
   "metadata": {},
   "outputs": [
    {
     "name": "stdout",
     "output_type": "stream",
     "text": [
      "Input Univariate Time Series:\n",
      "[ 1  2  3  4  5  6  7  8  9 10] \n",
      "X of size (10,)\n",
      "\n",
      "Univariate Time Series as Supervised Machine Learning:\n",
      "[1 2 3] 4\n",
      "[2 3 4] 5\n",
      "[3 4 5] 6\n",
      "[4 5 6] 7\n",
      "[5 6 7] 8\n",
      "[6 7 8] 9\n",
      "[7 8 9] 10\n",
      "X of size (7, 3)\n",
      "y of size (7,)\n",
      "     0    0    0   0\n",
      "0  NaN  NaN  NaN   1\n",
      "1  NaN  NaN  1.0   2\n",
      "2  NaN  1.0  2.0   3\n",
      "3  1.0  2.0  3.0   4\n",
      "4  2.0  3.0  4.0   5\n",
      "5  3.0  4.0  5.0   6\n",
      "6  4.0  5.0  6.0   7\n",
      "7  5.0  6.0  7.0   8\n",
      "8  6.0  7.0  8.0   9\n",
      "9  7.0  8.0  9.0  10\n",
      "Input Univariate Time Series:\n",
      "[10, 20, 30, 40, 50, 60, 70, 80, 90] \n",
      "X of size (9,)\n",
      "\n",
      "Univariate Time Series as Supervised Machine Learning:\n",
      "X_train: \n",
      "     t-3   t-2   t-1\n",
      "3  10.0  20.0  30.0\n",
      "4  20.0  30.0  40.0\n",
      "5  30.0  40.0  50.0\n",
      "6  40.0  50.0  60.0\n",
      "7  50.0  60.0  70.0\n",
      "8  60.0  70.0  80.0\n",
      "y_train: \n",
      "     t\n",
      "3  40\n",
      "4  50\n",
      "5  60\n",
      "6  70\n",
      "7  80\n",
      "8  90\n"
     ]
    }
   ],
   "source": [
    "%run $TS_AS_SML_FILE"
   ]
  },
  {
   "cell_type": "code",
   "execution_count": 7,
   "id": "c6722cb8-7597-4b88-a9b3-5f1fc3b72270",
   "metadata": {},
   "outputs": [
    {
     "name": "stdout",
     "output_type": "stream",
     "text": [
      "Input Univariate Time Series:\n",
      "[10, 20, 30, 40, 50, 60, 70, 80, 90] \n",
      "X of size (9,)\n",
      "\n",
      "Univariate Time Series as Supervised Machine Learning:\n",
      "X_train: \n",
      "     t-3   t-2   t-1\n",
      "3  10.0  20.0  30.0\n",
      "4  20.0  30.0  40.0\n",
      "5  30.0  40.0  50.0\n",
      "6  40.0  50.0  60.0\n",
      "7  50.0  60.0  70.0\n",
      "8  60.0  70.0  80.0\n",
      "y_train: \n",
      "     t\n",
      "3  40\n",
      "4  50\n",
      "5  60\n",
      "6  70\n",
      "7  80\n",
      "8  90\n"
     ]
    }
   ],
   "source": [
    "prior_observations, forecasting_step = [3, 1]\n",
    "X_train_df, y_train_df, X_y_df = convert_uts_sequence_to_sml_with_pd(univariate_time_series, prior_observations, forecasting_step) "
   ]
  },
  {
   "cell_type": "code",
   "execution_count": 8,
   "id": "ccb78fd4-09ac-4a7b-98d8-9056df6f2bae",
   "metadata": {},
   "outputs": [
    {
     "data": {
      "text/html": [
       "<div>\n",
       "<style scoped>\n",
       "    .dataframe tbody tr th:only-of-type {\n",
       "        vertical-align: middle;\n",
       "    }\n",
       "\n",
       "    .dataframe tbody tr th {\n",
       "        vertical-align: top;\n",
       "    }\n",
       "\n",
       "    .dataframe thead tr th {\n",
       "        text-align: left;\n",
       "    }\n",
       "</style>\n",
       "<table border=\"1\" class=\"dataframe\">\n",
       "  <thead>\n",
       "    <tr>\n",
       "      <th></th>\n",
       "      <th>t-3</th>\n",
       "      <th>t-2</th>\n",
       "      <th>t-1</th>\n",
       "    </tr>\n",
       "  </thead>\n",
       "  <tbody>\n",
       "    <tr>\n",
       "      <th>3</th>\n",
       "      <td>10.0</td>\n",
       "      <td>20.0</td>\n",
       "      <td>30.0</td>\n",
       "    </tr>\n",
       "    <tr>\n",
       "      <th>4</th>\n",
       "      <td>20.0</td>\n",
       "      <td>30.0</td>\n",
       "      <td>40.0</td>\n",
       "    </tr>\n",
       "    <tr>\n",
       "      <th>5</th>\n",
       "      <td>30.0</td>\n",
       "      <td>40.0</td>\n",
       "      <td>50.0</td>\n",
       "    </tr>\n",
       "    <tr>\n",
       "      <th>6</th>\n",
       "      <td>40.0</td>\n",
       "      <td>50.0</td>\n",
       "      <td>60.0</td>\n",
       "    </tr>\n",
       "    <tr>\n",
       "      <th>7</th>\n",
       "      <td>50.0</td>\n",
       "      <td>60.0</td>\n",
       "      <td>70.0</td>\n",
       "    </tr>\n",
       "    <tr>\n",
       "      <th>8</th>\n",
       "      <td>60.0</td>\n",
       "      <td>70.0</td>\n",
       "      <td>80.0</td>\n",
       "    </tr>\n",
       "  </tbody>\n",
       "</table>\n",
       "</div>"
      ],
      "text/plain": [
       "    t-3   t-2   t-1\n",
       "3  10.0  20.0  30.0\n",
       "4  20.0  30.0  40.0\n",
       "5  30.0  40.0  50.0\n",
       "6  40.0  50.0  60.0\n",
       "7  50.0  60.0  70.0\n",
       "8  60.0  70.0  80.0"
      ]
     },
     "execution_count": 8,
     "metadata": {},
     "output_type": "execute_result"
    }
   ],
   "source": [
    "X_train_df"
   ]
  },
  {
   "cell_type": "code",
   "execution_count": 9,
   "id": "13c25160-45c4-4fa7-b4aa-7dc4a0bfb86a",
   "metadata": {},
   "outputs": [
    {
     "data": {
      "text/html": [
       "<div>\n",
       "<style scoped>\n",
       "    .dataframe tbody tr th:only-of-type {\n",
       "        vertical-align: middle;\n",
       "    }\n",
       "\n",
       "    .dataframe tbody tr th {\n",
       "        vertical-align: top;\n",
       "    }\n",
       "\n",
       "    .dataframe thead tr th {\n",
       "        text-align: left;\n",
       "    }\n",
       "</style>\n",
       "<table border=\"1\" class=\"dataframe\">\n",
       "  <thead>\n",
       "    <tr>\n",
       "      <th></th>\n",
       "      <th>t</th>\n",
       "    </tr>\n",
       "  </thead>\n",
       "  <tbody>\n",
       "    <tr>\n",
       "      <th>3</th>\n",
       "      <td>40</td>\n",
       "    </tr>\n",
       "    <tr>\n",
       "      <th>4</th>\n",
       "      <td>50</td>\n",
       "    </tr>\n",
       "    <tr>\n",
       "      <th>5</th>\n",
       "      <td>60</td>\n",
       "    </tr>\n",
       "    <tr>\n",
       "      <th>6</th>\n",
       "      <td>70</td>\n",
       "    </tr>\n",
       "    <tr>\n",
       "      <th>7</th>\n",
       "      <td>80</td>\n",
       "    </tr>\n",
       "    <tr>\n",
       "      <th>8</th>\n",
       "      <td>90</td>\n",
       "    </tr>\n",
       "  </tbody>\n",
       "</table>\n",
       "</div>"
      ],
      "text/plain": [
       "    t\n",
       "3  40\n",
       "4  50\n",
       "5  60\n",
       "6  70\n",
       "7  80\n",
       "8  90"
      ]
     },
     "execution_count": 9,
     "metadata": {},
     "output_type": "execute_result"
    }
   ],
   "source": [
    "y_train_df"
   ]
  },
  {
   "cell_type": "code",
   "execution_count": 10,
   "id": "5b55e7b4-2502-4543-adb8-1ce4cb87c0a3",
   "metadata": {},
   "outputs": [
    {
     "data": {
      "text/html": [
       "<div>\n",
       "<style scoped>\n",
       "    .dataframe tbody tr th:only-of-type {\n",
       "        vertical-align: middle;\n",
       "    }\n",
       "\n",
       "    .dataframe tbody tr th {\n",
       "        vertical-align: top;\n",
       "    }\n",
       "\n",
       "    .dataframe thead tr th {\n",
       "        text-align: left;\n",
       "    }\n",
       "</style>\n",
       "<table border=\"1\" class=\"dataframe\">\n",
       "  <thead>\n",
       "    <tr>\n",
       "      <th></th>\n",
       "      <th>t-3</th>\n",
       "      <th>t-2</th>\n",
       "      <th>t-1</th>\n",
       "      <th>t</th>\n",
       "    </tr>\n",
       "  </thead>\n",
       "  <tbody>\n",
       "    <tr>\n",
       "      <th>3</th>\n",
       "      <td>10.0</td>\n",
       "      <td>20.0</td>\n",
       "      <td>30.0</td>\n",
       "      <td>40</td>\n",
       "    </tr>\n",
       "    <tr>\n",
       "      <th>4</th>\n",
       "      <td>20.0</td>\n",
       "      <td>30.0</td>\n",
       "      <td>40.0</td>\n",
       "      <td>50</td>\n",
       "    </tr>\n",
       "    <tr>\n",
       "      <th>5</th>\n",
       "      <td>30.0</td>\n",
       "      <td>40.0</td>\n",
       "      <td>50.0</td>\n",
       "      <td>60</td>\n",
       "    </tr>\n",
       "    <tr>\n",
       "      <th>6</th>\n",
       "      <td>40.0</td>\n",
       "      <td>50.0</td>\n",
       "      <td>60.0</td>\n",
       "      <td>70</td>\n",
       "    </tr>\n",
       "    <tr>\n",
       "      <th>7</th>\n",
       "      <td>50.0</td>\n",
       "      <td>60.0</td>\n",
       "      <td>70.0</td>\n",
       "      <td>80</td>\n",
       "    </tr>\n",
       "    <tr>\n",
       "      <th>8</th>\n",
       "      <td>60.0</td>\n",
       "      <td>70.0</td>\n",
       "      <td>80.0</td>\n",
       "      <td>90</td>\n",
       "    </tr>\n",
       "  </tbody>\n",
       "</table>\n",
       "</div>"
      ],
      "text/plain": [
       "    t-3   t-2   t-1   t\n",
       "3  10.0  20.0  30.0  40\n",
       "4  20.0  30.0  40.0  50\n",
       "5  30.0  40.0  50.0  60\n",
       "6  40.0  50.0  60.0  70\n",
       "7  50.0  60.0  70.0  80\n",
       "8  60.0  70.0  80.0  90"
      ]
     },
     "execution_count": 10,
     "metadata": {},
     "output_type": "execute_result"
    }
   ],
   "source": [
    "X_y_df"
   ]
  },
  {
   "cell_type": "code",
   "execution_count": 11,
   "id": "156d6e7a-db64-4df7-adfc-5427e50b3df6",
   "metadata": {},
   "outputs": [
    {
     "name": "stdout",
     "output_type": "stream",
     "text": [
      "X_train: [[10. 20. 30.]\n",
      " [20. 30. 40.]\n",
      " [30. 40. 50.]\n",
      " [40. 50. 60.]\n",
      " [50. 60. 70.]\n",
      " [60. 70. 80.]]\n",
      "y_train [[40]\n",
      " [50]\n",
      " [60]\n",
      " [70]\n",
      " [80]\n",
      " [90]]\n"
     ]
    }
   ],
   "source": [
    "X_train = X_train_df.values\n",
    "print(\"X_train:\", X_train)\n",
    "y_train = y_train_df.values\n",
    "print(\"y_train\", y_train)"
   ]
  },
  {
   "cell_type": "markdown",
   "id": "857c75e7-0913-4f64-9020-1f81f3dbc775",
   "metadata": {},
   "source": [
    "# Create Keras model, fit, and predict"
   ]
  },
  {
   "cell_type": "code",
   "execution_count": 12,
   "id": "2a896720-31d1-4b75-97e9-99ea5b37ad4f",
   "metadata": {},
   "outputs": [
    {
     "name": "stderr",
     "output_type": "stream",
     "text": [
      "2023-06-06 08:54:56.408901: I tensorflow/core/platform/cpu_feature_guard.cc:193] This TensorFlow binary is optimized with oneAPI Deep Neural Network Library (oneDNN) to use the following CPU instructions in performance-critical operations:  SSE4.1 SSE4.2 AVX AVX2 FMA\n",
      "To enable them in other operations, rebuild TensorFlow with the appropriate compiler flags.\n"
     ]
    }
   ],
   "source": [
    "model = Sequential()\n",
    "model.add(Dense(100, activation='relu', input_dim=prior_observations))\n",
    "model.add(Dense(1))\n",
    "model.compile(optimizer='adam', loss='mse')"
   ]
  },
  {
   "cell_type": "code",
   "execution_count": 13,
   "id": "09cc4019-1867-4ab5-b436-fa0d99c51221",
   "metadata": {},
   "outputs": [
    {
     "data": {
      "text/plain": [
       "<keras.callbacks.History at 0x16c62d820>"
      ]
     },
     "execution_count": 13,
     "metadata": {},
     "output_type": "execute_result"
    }
   ],
   "source": [
    "model.fit(X_train, y_train, epochs=2000, verbose=0)"
   ]
  },
  {
   "cell_type": "code",
   "execution_count": 39,
   "id": "897c0d10-af4d-4736-a798-3e8a06dd1592",
   "metadata": {},
   "outputs": [
    {
     "data": {
      "text/plain": [
       "array([[100.5281]], dtype=float32)"
      ]
     },
     "execution_count": 39,
     "metadata": {},
     "output_type": "execute_result"
    }
   ],
   "source": [
    "x_input = np.array([70, 80, 90])\n",
    "x_input = x_input.reshape((1, prior_observations))\n",
    "yhat = model.predict(x_input, verbose=0)\n",
    "yhat"
   ]
  },
  {
   "cell_type": "code",
   "execution_count": 40,
   "id": "3a46aaf1-8b88-4b77-a0e0-ef9add8043c0",
   "metadata": {},
   "outputs": [
    {
     "data": {
      "text/plain": [
       "[100.5280990600586]"
      ]
     },
     "execution_count": 40,
     "metadata": {},
     "output_type": "execute_result"
    }
   ],
   "source": [
    "yhat = yhat.tolist()\n",
    "yhat = sum(yhat, [])\n",
    "yhat"
   ]
  },
  {
   "cell_type": "code",
   "execution_count": 27,
   "id": "5577e4bf-513c-498c-ac15-a68505fbb68b",
   "metadata": {},
   "outputs": [],
   "source": [
    "# root mean squared error or rmse\n",
    "def measure_rmse(actual, predicted):\n",
    "    # print(\"ACTUAL = \", actual)\n",
    "    print(\"PREDICTED = \", predicted)\n",
    "    return math.sqrt(mean_squared_error(actual, predicted))"
   ]
  },
  {
   "cell_type": "code",
   "execution_count": 41,
   "id": "667560c7-0b28-4aae-913d-33a75f131343",
   "metadata": {},
   "outputs": [
    {
     "name": "stdout",
     "output_type": "stream",
     "text": [
      "PREDICTED =  [100.5280990600586]\n",
      "> 0.528\n"
     ]
    }
   ],
   "source": [
    "ytrue = [100]\n",
    "error = measure_rmse(ytrue, yhat) \n",
    "print('> %.3f' % error)"
   ]
  },
  {
   "cell_type": "code",
   "execution_count": null,
   "id": "311cd454-be58-4c0e-9930-cefcca878be0",
   "metadata": {},
   "outputs": [],
   "source": []
  }
 ],
 "metadata": {
  "kernelspec": {
   "display_name": "Python 3 (ipykernel)",
   "language": "python",
   "name": "python3"
  },
  "language_info": {
   "codemirror_mode": {
    "name": "ipython",
    "version": 3
   },
   "file_extension": ".py",
   "mimetype": "text/x-python",
   "name": "python",
   "nbconvert_exporter": "python",
   "pygments_lexer": "ipython3",
   "version": "3.9.16"
  }
 },
 "nbformat": 4,
 "nbformat_minor": 5
}
