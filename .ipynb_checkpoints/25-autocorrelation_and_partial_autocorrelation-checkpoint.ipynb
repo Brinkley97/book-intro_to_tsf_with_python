{
 "cells": [
  {
   "cell_type": "markdown",
   "id": "04194835-849f-452f-98f6-a49219d92a83",
   "metadata": {},
   "source": [
    "# 25 Autocorrelation and Partial Autocorrelation\n",
    "\n",
    "---\n",
    "\n",
    "### 1. What is Autocorrelation? What is Partial Autocorrelation?\n",
    "- Partial Autocorrelation (function) (PACF) is a function that summarizes the relationship between an observation in a time series with observations at lags (prior time steps) with the relationships of intervening observations removed. **Think Family tree ex:** What's the relationship between me and Granny? Remove my mom, dad, and even possibly their parents (except Granny of course lol) \n",
    "    - The partial autocorrelation at lag k is the correlation that results after removing the effect of any correlations due to the terms at shorter lags [Page 81, Section 4.5.6 Partial Autocorrelations, Introductory Time Series with R]\n",
    "\n",
    "---\n",
    "\n",
    "### 2. Why are ACF and PACF important?\n",
    "\n",
    "---\n",
    "\n",
    "### 3. What are some applications of ACF and PACF? What other concepts can I connect to ACF and PACF? Use FE when...\n",
    "\n",
    "---\n",
    "\n",
    "### 4. What is the evolution/history of ACF and PACF?\n",
    "\n",
    "---\n",
    "\n",
    "### 5. Can I predict the future use of ACF and PACF? How can this current usage of ACF and PACF improve?\n",
    "\n",
    "---\n",
    "\n",
    "### 6. What don't I understand about ACF and PACF? Why is this? What's the root of this misunderstanding?\n",
    "\n",
    "- For PACF, are we comparing observation 0 to 1, then 0 to 2 (while removing 0 to 1 observation), then 0 to X (while removing 0 to X - 1 observations)?\n",
    "---\n"
   ]
  },
  {
   "cell_type": "markdown",
   "id": "3a021a41-6b11-4192-a0f0-693867df1cb6",
   "metadata": {},
   "source": [
    "## Imports and Load Data"
   ]
  },
  {
   "cell_type": "code",
   "execution_count": 4,
   "id": "e3eb0af5-710b-44e2-bb22-c94c0fafc35d",
   "metadata": {},
   "outputs": [],
   "source": [
    "import pandas as pd\n",
    "import sys  \n",
    "sys.path.insert(0, \"/Users/brinkley97/Documents/development/\")\n",
    "import my_created_functions\n",
    "from pandas.plotting import autocorrelation_plot\n",
    "from statsmodels.graphics import tsaplots\n",
    "from matplotlib import pyplot"
   ]
  },
  {
   "cell_type": "code",
   "execution_count": 2,
   "id": "3d52d446-5e24-4bce-b6ac-dafd841472ed",
   "metadata": {},
   "outputs": [
    {
     "data": {
      "text/html": [
       "<div>\n",
       "<style scoped>\n",
       "    .dataframe tbody tr th:only-of-type {\n",
       "        vertical-align: middle;\n",
       "    }\n",
       "\n",
       "    .dataframe tbody tr th {\n",
       "        vertical-align: top;\n",
       "    }\n",
       "\n",
       "    .dataframe thead th {\n",
       "        text-align: right;\n",
       "    }\n",
       "</style>\n",
       "<table border=\"1\" class=\"dataframe\">\n",
       "  <thead>\n",
       "    <tr style=\"text-align: right;\">\n",
       "      <th></th>\n",
       "      <th>Temp</th>\n",
       "    </tr>\n",
       "    <tr>\n",
       "      <th>Date</th>\n",
       "      <th></th>\n",
       "    </tr>\n",
       "  </thead>\n",
       "  <tbody>\n",
       "    <tr>\n",
       "      <th>1981-01-01</th>\n",
       "      <td>20.7</td>\n",
       "    </tr>\n",
       "    <tr>\n",
       "      <th>1981-01-02</th>\n",
       "      <td>17.9</td>\n",
       "    </tr>\n",
       "    <tr>\n",
       "      <th>1981-01-03</th>\n",
       "      <td>18.8</td>\n",
       "    </tr>\n",
       "    <tr>\n",
       "      <th>1981-01-04</th>\n",
       "      <td>14.6</td>\n",
       "    </tr>\n",
       "    <tr>\n",
       "      <th>1981-01-05</th>\n",
       "      <td>15.8</td>\n",
       "    </tr>\n",
       "    <tr>\n",
       "      <th>...</th>\n",
       "      <td>...</td>\n",
       "    </tr>\n",
       "    <tr>\n",
       "      <th>1990-12-27</th>\n",
       "      <td>14.0</td>\n",
       "    </tr>\n",
       "    <tr>\n",
       "      <th>1990-12-28</th>\n",
       "      <td>13.6</td>\n",
       "    </tr>\n",
       "    <tr>\n",
       "      <th>1990-12-29</th>\n",
       "      <td>13.5</td>\n",
       "    </tr>\n",
       "    <tr>\n",
       "      <th>1990-12-30</th>\n",
       "      <td>15.7</td>\n",
       "    </tr>\n",
       "    <tr>\n",
       "      <th>1990-12-31</th>\n",
       "      <td>13.0</td>\n",
       "    </tr>\n",
       "  </tbody>\n",
       "</table>\n",
       "<p>3650 rows × 1 columns</p>\n",
       "</div>"
      ],
      "text/plain": [
       "            Temp\n",
       "Date            \n",
       "1981-01-01  20.7\n",
       "1981-01-02  17.9\n",
       "1981-01-03  18.8\n",
       "1981-01-04  14.6\n",
       "1981-01-05  15.8\n",
       "...          ...\n",
       "1990-12-27  14.0\n",
       "1990-12-28  13.6\n",
       "1990-12-29  13.5\n",
       "1990-12-30  15.7\n",
       "1990-12-31  13.0\n",
       "\n",
       "[3650 rows x 1 columns]"
      ]
     },
     "execution_count": 2,
     "metadata": {},
     "output_type": "execute_result"
    }
   ],
   "source": [
    "folder = \"book-intro_to_tsf_with_python/datasets/\"\n",
    "file = \"daily-min-temperatures.csv\"\n",
    "dataset = my_created_functions.load_csv_data(folder, file)\n",
    "dataset"
   ]
  },
  {
   "cell_type": "markdown",
   "id": "37ae4e01-437b-4130-8478-dedd9d81b954",
   "metadata": {},
   "source": [
    "## PACF Plot\n",
    "- Parameters:\n",
    "    - `dataset` -- the dataset to use\n",
    "    - `lags` -- how far out do we want to go\n",
    "    - `method (ywm)` -- a way of producing values between interval [-1, 1] (`method (yw)` is the default and can produce values outside of interval [-1, 1])"
   ]
  },
  {
   "cell_type": "code",
   "execution_count": 14,
   "id": "70b25048-c12d-49af-920f-e694f637317c",
   "metadata": {},
   "outputs": [
    {
     "data": {
      "image/png": "[encoded data removed]",
      "text/plain": [
       "<Figure size 432x288 with 1 Axes>"
      ]
     },
     "execution_count": 14,
     "metadata": {},
     "output_type": "execute_result"
    },
    {
     "data": {
      "image/png": "[encoded data removed]",
      "text/plain": [
       "<Figure size 432x288 with 1 Axes>"
      ]
     },
     "metadata": {
      "needs_background": "light"
     },
     "output_type": "display_data"
    }
   ],
   "source": [
    "tsaplots.plot_pacf(dataset, lags=20, method='ywm')"
   ]
  },
  {
   "cell_type": "code",
   "execution_count": null,
   "id": "0ec338f8-fa1d-452f-8cb8-47eb474120c4",
   "metadata": {},
   "outputs": [],
   "source": []
  }
 ],
 "metadata": {
  "kernelspec": {
   "display_name": "Python 3 (ipykernel)",
   "language": "python",
   "name": "python3"
  },
  "language_info": {
   "codemirror_mode": {
    "name": "ipython",
    "version": 3
   },
   "file_extension": ".py",
   "mimetype": "text/x-python",
   "name": "python",
   "nbconvert_exporter": "python",
   "pygments_lexer": "ipython3",
   "version": "3.9.7"
  }
 },
 "nbformat": 4,
 "nbformat_minor": 5
}
