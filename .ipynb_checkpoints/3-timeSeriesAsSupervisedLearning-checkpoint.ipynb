{
 "cells": [
  {
   "cell_type": "markdown",
   "id": "04194835-849f-452f-98f6-a49219d92a83",
   "metadata": {},
   "source": [
    "# X\n",
    "\n",
    "---\n",
    "\n",
    "### 1. What is X?\n",
    "\n",
    "---\n",
    "\n",
    "### 2. Why is X important?\n",
    "\n",
    "---\n",
    "\n",
    "### 3. What are some applications of X? What other concepts can I connect to X? Use FE when...\n",
    "\n",
    "---\n",
    "\n",
    "### 4. What is the evolution/history of X?\n",
    "\n",
    "---\n",
    "\n",
    "### 5. Can I predict the future use of X? How can this current usage of X improve?\n",
    "\n",
    "---\n",
    "\n",
    "### 6. What don't I understand about X? Why is this? What's the root of this misunderstanding?\n",
    "\n",
    "---\n"
   ]
  },
  {
   "cell_type": "markdown",
   "id": "3a021a41-6b11-4192-a0f0-693867df1cb6",
   "metadata": {},
   "source": [
    "## Imports and Load Data"
   ]
  },
  {
   "cell_type": "code",
   "execution_count": 1,
   "id": "e3eb0af5-710b-44e2-bb22-c94c0fafc35d",
   "metadata": {},
   "outputs": [],
   "source": [
    "import numpy as np"
   ]
  },
  {
   "cell_type": "markdown",
   "id": "0ad02421-a69e-4777-861c-df97a495fc3a",
   "metadata": {
    "jp-MarkdownHeadingCollapsed": true,
    "tags": []
   },
   "source": [
    "## Transform Time Series Problem to Supervised Learning Problem (My Solution)\n",
    "- Function: `split_sequence()`\n",
    "- Parameters:\n",
    "    - `ts_data`: time series data to transform to supervised learning data\n",
    "    - `input_X_size`: size of each `X` for supervised learning\n",
    "- Input: [1, 2, 3, 4, 5, 6, 7, 8, 9, 10]\n",
    "- Output: X_1 = [1, 2, 3] Y_1 = [4]\n",
    "X_2 = [2, 3, 4] Y_2 = [5]\n",
    "X_3 = [3, 4, 5] Y_2 = [6]\n",
    "..."
   ]
  },
  {
   "cell_type": "code",
   "execution_count": 28,
   "id": "f8205c00-02a6-4d22-8dc7-6845e6313a30",
   "metadata": {},
   "outputs": [],
   "source": [
    "def split_sequence(ts_data, input_X_size):\n",
    "    \"\"\"\n",
    "    ts_data -- 1D np array\n",
    "    input_X_size -- int\n",
    "    \n",
    "    return -- 2D np array, 1D np array\n",
    "    \"\"\"\n",
    "    X = []\n",
    "    y = []\n",
    "    \n",
    "    for i in range(len(ts_data)):\n",
    "        \n",
    "        last_idx = i + input_X_size\n",
    "        print(ts_data[i], last_idx)\n",
    "        \n",
    "        if last_idx == len(ts_data):\n",
    "            break\n",
    "        \n",
    "        # set the size of all X inputs\n",
    "        get_X = ts_data[i : last_idx]\n",
    "        print(get_X)\n",
    "        \n",
    "        X.append(get_X)\n",
    "        print(X)\n",
    "        \n",
    "        get_y = ts_data[last_idx]\n",
    "        print(get_y)\n",
    "        \n",
    "        y.append(get_y)\n",
    "        print(y)\n",
    "        \n",
    "        \n",
    "        print()\n",
    "    return X, y"
   ]
  },
  {
   "cell_type": "code",
   "execution_count": 29,
   "id": "f5e23dd5-baa6-4f1a-9347-66e54ea6e350",
   "metadata": {},
   "outputs": [
    {
     "name": "stdout",
     "output_type": "stream",
     "text": [
      "1 3\n",
      "[1 2 3]\n",
      "[array([1, 2, 3])]\n",
      "4\n",
      "[4]\n",
      "\n",
      "2 4\n",
      "[2 3 4]\n",
      "[array([1, 2, 3]), array([2, 3, 4])]\n",
      "5\n",
      "[4, 5]\n",
      "\n",
      "3 5\n",
      "[3 4 5]\n",
      "[array([1, 2, 3]), array([2, 3, 4]), array([3, 4, 5])]\n",
      "6\n",
      "[4, 5, 6]\n",
      "\n",
      "4 6\n",
      "[4 5 6]\n",
      "[array([1, 2, 3]), array([2, 3, 4]), array([3, 4, 5]), array([4, 5, 6])]\n",
      "7\n",
      "[4, 5, 6, 7]\n",
      "\n",
      "5 7\n",
      "[5 6 7]\n",
      "[array([1, 2, 3]), array([2, 3, 4]), array([3, 4, 5]), array([4, 5, 6]), array([5, 6, 7])]\n",
      "8\n",
      "[4, 5, 6, 7, 8]\n",
      "\n",
      "6 8\n",
      "[6 7 8]\n",
      "[array([1, 2, 3]), array([2, 3, 4]), array([3, 4, 5]), array([4, 5, 6]), array([5, 6, 7]), array([6, 7, 8])]\n",
      "9\n",
      "[4, 5, 6, 7, 8, 9]\n",
      "\n",
      "7 9\n",
      "[7 8 9]\n",
      "[array([1, 2, 3]), array([2, 3, 4]), array([3, 4, 5]), array([4, 5, 6]), array([5, 6, 7]), array([6, 7, 8]), array([7, 8, 9])]\n",
      "10\n",
      "[4, 5, 6, 7, 8, 9, 10]\n",
      "\n",
      "8 10\n"
     ]
    },
    {
     "data": {
      "text/plain": [
       "([array([1, 2, 3]),\n",
       "  array([2, 3, 4]),\n",
       "  array([3, 4, 5]),\n",
       "  array([4, 5, 6]),\n",
       "  array([5, 6, 7]),\n",
       "  array([6, 7, 8]),\n",
       "  array([7, 8, 9])],\n",
       " [4, 5, 6, 7, 8, 9, 10])"
      ]
     },
     "execution_count": 29,
     "metadata": {},
     "output_type": "execute_result"
    }
   ],
   "source": [
    "time_series_data = np.array([1, 2, 3, 4, 5, 6, 7, 8, 9, 10])\n",
    "split_sequence(time_series_data, 3)"
   ]
  },
  {
   "cell_type": "code",
   "execution_count": null,
   "id": "065fb4f3-286f-49f3-8083-33b6d0c877e5",
   "metadata": {},
   "outputs": [],
   "source": []
  },
  {
   "cell_type": "markdown",
   "id": "cadf157d-fbce-46ac-95cf-c9b8eb491cd6",
   "metadata": {},
   "source": [
    "## Transform Time Series Problem to Supervised Learning Problem (Correct Solution)"
   ]
  },
  {
   "cell_type": "code",
   "execution_count": null,
   "id": "6e73cfff-3859-4801-8e88-f54c44326633",
   "metadata": {},
   "outputs": [],
   "source": []
  }
 ],
 "metadata": {
  "kernelspec": {
   "display_name": "Python 3 (ipykernel)",
   "language": "python",
   "name": "python3"
  },
  "language_info": {
   "codemirror_mode": {
    "name": "ipython",
    "version": 3
   },
   "file_extension": ".py",
   "mimetype": "text/x-python",
   "name": "python",
   "nbconvert_exporter": "python",
   "pygments_lexer": "ipython3",
   "version": "3.9.7"
  }
 },
 "nbformat": 4,
 "nbformat_minor": 5
}
