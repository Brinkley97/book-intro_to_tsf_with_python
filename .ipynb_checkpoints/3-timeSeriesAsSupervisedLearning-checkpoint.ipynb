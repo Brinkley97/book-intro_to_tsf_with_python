{
 "cells": [
  {
   "cell_type": "markdown",
   "id": "04194835-849f-452f-98f6-a49219d92a83",
   "metadata": {},
   "source": [
    "# 3 Time Series as Supervised Learning\n",
    "\n",
    "---\n",
    "\n",
    "### 1. What is Supervised Learning?\n",
    "- **Supervised Learning:** you have `input variables (X)` and an `output variable (y)` and you use an algorithm to learn the mapping function from the input to the output $\\rightarrow y = f(X)$\n",
    "- The foundation for all predictive modeling machine learning (ML) algorithms\n",
    "- **Goal:** is to approximate the real underlying mapping so well that when you have new `input data (X)`, you can predict the `output variables (y)` for that data\n",
    "- Called supervised learning because the process of an algorithm learning from the training dataset can be thought of as a teacher supervising the learning process\n",
    "- The teacher knows the correct answers; the algorithm (or students) iteratively makes predictions on the training data and is corrected by making updates\n",
    "- Learning stops when the algorithm achieves an acceptable level of performance\n",
    "- **Sliding window method:** The use of prior time steps to predict the next time step; also called window method and in statistics and TSA, this is called a **lag** or lag method; turn time series problem to supervised learning problem; the larger the window size, the more time series steps in window\n",
    "- **Univariate Time Series:** Datasets where only a single variable is observed at each time, such as temperature each hour\n",
    "- **Multivariate Time Series:** Datasets where two or more variables are observed at each time\n",
    "- **One-step Forecast:** At (given) `t (as an input feature (X))`, the next time step `y = t + 1` is predicted\n",
    "- **Multi-step Forecast:** At (given) `t (as an input feature (X))`, predict `y_n = t + n` and `y_n = t + n + 1`, where n > 1 so t + 2, t + 3...\n",
    "\n",
    "\n",
    "---\n",
    "\n",
    "### 2. Why is X important?\n",
    "\n",
    "- Transforming from a time series to a supervised learning problem allows you access to the suite of standard linear and nonlinear ML algorithms on your problem\n",
    "\n",
    "---\n",
    "\n",
    "### 3. What are some applications of X? What other concepts can I connect to X? Use FE when...\n",
    "\n",
    "- Supervised learning problems can be further grouped into regression and classification problems\n",
    "    - Classification: A classification problem is when the output variable is a category, such as red and blue or disease and no disease\n",
    "    - Regression: A regression problem is when the output variable is a real value, such as dollars or weight\n",
    "\n",
    "---\n",
    "\n",
    "### 4. What is the evolution/history of X?\n",
    "\n",
    "---\n",
    "\n",
    "### 5. Can I predict the future use of X? How can this current usage of X improve?\n",
    "\n",
    "---\n",
    "\n",
    "### 6. What don't I understand about X? Why is this? What's the root of this misunderstanding?\n",
    "\n",
    "---\n"
   ]
  },
  {
   "cell_type": "markdown",
   "id": "3a021a41-6b11-4192-a0f0-693867df1cb6",
   "metadata": {},
   "source": [
    "## Imports and Load Data"
   ]
  },
  {
   "cell_type": "code",
   "execution_count": 1,
   "id": "e3eb0af5-710b-44e2-bb22-c94c0fafc35d",
   "metadata": {},
   "outputs": [],
   "source": [
    "import numpy as np"
   ]
  },
  {
   "cell_type": "markdown",
   "id": "38100fdf-0e19-4e6c-a04a-3e983aa77468",
   "metadata": {
    "tags": []
   },
   "source": [
    "## Examples - Uni and Multi Variate to Supervised Learning"
   ]
  },
  {
   "cell_type": "markdown",
   "id": "cd205e2c-e478-4812-8ca5-4b041b5864c7",
   "metadata": {},
   "source": [
    "A contrived regression problem example of a supervised learning dataset where each **row is an observation** comprised of one `input variable (X)` and one `output variable` to be predicted `(y)`."
   ]
  },
  {
   "cell_type": "raw",
   "id": "533a56b4-b4c3-43c7-b990-f6395bd1bc87",
   "metadata": {},
   "source": [
    "Supervised ML ex\n",
    "X, y \n",
    "5, 0.9 \n",
    "4, 0.8 \n",
    "5, 1.0 \n",
    "3, 0.7 \n",
    "4, 0.9"
   ]
  },
  {
   "cell_type": "raw",
   "id": "990b6f62-0354-4f8c-806c-8ce79fee3819",
   "metadata": {},
   "source": [
    "FROM TS \n",
    "time, measure\n",
    "1,     100\n",
    "2,     110\n",
    "3,     108\n",
    "4,     115\n",
    "5,     120\n",
    "\n",
    "TO Supervised Learning\n",
    "X,      y\n",
    "?,     100\n",
    "100,   110\n",
    "110,   108\n",
    "108,   115\n",
    "115,   120\n",
    "120,   ?\n",
    "\n",
    "Process: using the value at the previous time step to predict the value at the next time-step\n",
    "**Note**: delete 1st row bc it's like having no input but wanting to make a prediction (can't learn that way lol) and last row with \"?\" bc we don't have a known values to predict for them & order between observations is preserved"
   ]
  },
  {
   "cell_type": "raw",
   "id": "57315ea6-ae05-4620-9584-8a7ee6e32619",
   "metadata": {},
   "source": [
    "From (1) a multivariate time series dataset as a supervised learning problem.\n",
    "time, measure1, measure2 \n",
    "1      0.2       88     \n",
    "2      0.5       89\n",
    "3      0.7       87      \n",
    "4      0.4       88\n",
    "5      1.0       90\n",
    "\n",
    "TO (2) supervised learning with window width = 1; use m1, m2, and m1 to predict m2 so 3 input features (X) with 1 output feature (y)\n",
    "X1,   X2, X3, y \n",
    "?,   ?,  0.2, 88 \n",
    "0.2, 88, 0.5, 89 \n",
    "0.5, 89, 0.7, 87 \n",
    "0.7, 87, 0.4, 88 \n",
    "0.4, 88, 1.0, 90\n",
    "1.0, 90,  ?,  ?\n",
    "\n",
    "\n",
    "OR (3) can predict both y1 and y2 given m1 and m2\n",
    "X1,   X2, y1, y2 \n",
    "?,   ?,  0.2, 88 \n",
    "0.2, 88, 0.5, 89 \n",
    "0.5, 89, 0.7, 87 \n",
    "0.7, 87, 0.4, 88 \n",
    "0.4, 88, 1.0, 90\n",
    "1.0, 90,  ?,  ?\n",
    "\n",
    "\n",
    "(1) -> (3): predicting 2 different output variables, we may want to predict multiple time-steps ahead of 1 output variable. This is called multi-step forecasting; see more in next section"
   ]
  },
  {
   "cell_type": "raw",
   "id": "a4bd06f0-5e81-4a1a-99d0-b8868bac8cd9",
   "metadata": {},
   "source": [
    "FROM TS \n",
    "time, measure\n",
    "1,     100\n",
    "2,     110\n",
    "3,     108\n",
    "4,     115\n",
    "5,     120\n",
    "\n",
    "X1 as input to predict y1 and y2; multi-step forecast using the sliding window method\n",
    "X1,     y1,   y2 \n",
    "?      100,  110 \n",
    "100,   110,  108 \n",
    "110,   108,  115 \n",
    "108,   115,  120 \n",
    "115,   120,   ? \n",
    "120,    ?,    ?\n",
    "\n",
    "first row and the last two rows cannot be used to train a supervised model."
   ]
  },
  {
   "cell_type": "markdown",
   "id": "0ad02421-a69e-4777-861c-df97a495fc3a",
   "metadata": {
    "tags": []
   },
   "source": [
    "## Transform Time Series Problem to Supervised Learning Problem (My Solution)\n",
    "- Function: `split_sequence()` splits a given univariate sequence into multiple samples where each sample has a specified number of time steps and the output is a single time step.\n",
    "- Parameters:\n",
    "    - `ts_data`: time series data to transform to supervised learning data\n",
    "    - `input_X_size`: size of each `X` for supervised learning\n",
    "- Input: [1, 2, 3, 4, 5, 6, 7, 8, 9, 10] 10 x 1\n",
    "- Output: X_1 = [1, 2, 3] Y_1 = [4]\n",
    "X_2 = [2, 3, 4] Y_2 = [5]\n",
    "X_3 = [3, 4, 5] Y_2 = [6]\n",
    "... \n",
    "- Size: X 7 x 3 and y 7 x 1\n",
    "- Feature (of output): A column in a dataset, such as a lag observation for a time series dataset. 3 features\n",
    "- Sample (of output): A row in a dataset, such as an input and output sequence for a time series dataset. 7 samples\n",
    "- Data in this form can be used directly to train a simple neural network, such as a Multilayer Perceptron"
   ]
  },
  {
   "cell_type": "code",
   "execution_count": 44,
   "id": "f8205c00-02a6-4d22-8dc7-6845e6313a30",
   "metadata": {},
   "outputs": [],
   "source": [
    "def split_sequence(ts_data, input_X_size):\n",
    "    \"\"\"\n",
    "    ts_data -- 1D np array\n",
    "    input_X_size -- int\n",
    "    \n",
    "    return -- 2D np array, 1D np array\n",
    "    \"\"\"\n",
    "    X = []\n",
    "    y = []\n",
    "    \n",
    "    for i in range(len(ts_data)):\n",
    "        \n",
    "        last_idx = i + input_X_size\n",
    "        # print(ts_data[i], last_idx)\n",
    "        \n",
    "        if last_idx == len(ts_data):\n",
    "            break\n",
    "        \n",
    "        # set the size of all X inputs\n",
    "        get_X = ts_data[i : last_idx]\n",
    "        # print(get_X)\n",
    "        \n",
    "        X.append(get_X)\n",
    "        # print(X)\n",
    "        \n",
    "        get_y = ts_data[last_idx]\n",
    "        # print(get_y)\n",
    "        \n",
    "        y.append(get_y)\n",
    "        # print(y)\n",
    "        # print()\n",
    "    for i in range(len(X)): \n",
    "        print(i, X[i], y[i])\n",
    "    return X, y"
   ]
  },
  {
   "cell_type": "code",
   "execution_count": 45,
   "id": "f5e23dd5-baa6-4f1a-9347-66e54ea6e350",
   "metadata": {},
   "outputs": [
    {
     "name": "stdout",
     "output_type": "stream",
     "text": [
      "0 [1 2 3] 4\n",
      "1 [2 3 4] 5\n",
      "2 [3 4 5] 6\n",
      "3 [4 5 6] 7\n",
      "4 [5 6 7] 8\n",
      "5 [6 7 8] 9\n",
      "6 [7 8 9] 10\n"
     ]
    },
    {
     "data": {
      "text/plain": [
       "([array([1, 2, 3]),\n",
       "  array([2, 3, 4]),\n",
       "  array([3, 4, 5]),\n",
       "  array([4, 5, 6]),\n",
       "  array([5, 6, 7]),\n",
       "  array([6, 7, 8]),\n",
       "  array([7, 8, 9])],\n",
       " [4, 5, 6, 7, 8, 9, 10])"
      ]
     },
     "execution_count": 45,
     "metadata": {},
     "output_type": "execute_result"
    }
   ],
   "source": [
    "time_series_data = np.array([1, 2, 3, 4, 5, 6, 7, 8, 9, 10])\n",
    "split_sequence(time_series_data, 3)"
   ]
  },
  {
   "cell_type": "code",
   "execution_count": null,
   "id": "065fb4f3-286f-49f3-8083-33b6d0c877e5",
   "metadata": {},
   "outputs": [],
   "source": []
  },
  {
   "cell_type": "markdown",
   "id": "cadf157d-fbce-46ac-95cf-c9b8eb491cd6",
   "metadata": {
    "jp-MarkdownHeadingCollapsed": true,
    "tags": []
   },
   "source": [
    "## Transform Time Series Problem to Supervised Learning Problem (Correct Solution)"
   ]
  },
  {
   "cell_type": "code",
   "execution_count": 55,
   "id": "6e73cfff-3859-4801-8e88-f54c44326633",
   "metadata": {},
   "outputs": [],
   "source": [
    "def split_sequence(sequence, n_steps):\n",
    "    X, y = list(), list()\n",
    "    for i in range(len(sequence)):\n",
    "        \n",
    "        # find the end of this pattern\n",
    "        end_ix = i + n_steps\n",
    "        \n",
    "        # check if we are beyond the sequence \n",
    "        if end_ix > len(sequence) - 1 : \n",
    "            break\n",
    "        # gather input and output parts of the pattern \n",
    "        seq_x, seq_y = sequence[i:end_ix], sequence[end_ix] \n",
    "        X.append(seq_x)\n",
    "        y.append(seq_y)\n",
    "    \n",
    "    for i in range(len(X)): \n",
    "        print(X[i], y[i])\n",
    "    \n",
    "    print(np.shape(X), np.shape(y))\n",
    "    \n",
    "    return np.array(X), np.array(y)"
   ]
  },
  {
   "cell_type": "code",
   "execution_count": 56,
   "id": "449c198e-454f-4c69-bcad-61bc37e6e133",
   "metadata": {},
   "outputs": [
    {
     "name": "stdout",
     "output_type": "stream",
     "text": [
      "(10,)\n",
      "[1 2 3] 4\n",
      "[2 3 4] 5\n",
      "[3 4 5] 6\n",
      "[4 5 6] 7\n",
      "[5 6 7] 8\n",
      "[6 7 8] 9\n",
      "[7 8 9] 10\n",
      "(7, 3) (7,)\n"
     ]
    },
    {
     "data": {
      "text/plain": [
       "(array([[1, 2, 3],\n",
       "        [2, 3, 4],\n",
       "        [3, 4, 5],\n",
       "        [4, 5, 6],\n",
       "        [5, 6, 7],\n",
       "        [6, 7, 8],\n",
       "        [7, 8, 9]]),\n",
       " array([ 4,  5,  6,  7,  8,  9, 10]))"
      ]
     },
     "execution_count": 56,
     "metadata": {},
     "output_type": "execute_result"
    }
   ],
   "source": [
    "series = np.array([1, 2, 3, 4, 5, 6, 7, 8, 9, 10])\n",
    "print(np.shape(series))\n",
    "split_sequence(series, 3)"
   ]
  },
  {
   "cell_type": "code",
   "execution_count": 34,
   "id": "00234a10-a46b-4493-ac19-245cb561cb75",
   "metadata": {},
   "outputs": [
    {
     "ename": "NameError",
     "evalue": "name 'X' is not defined",
     "output_type": "error",
     "traceback": [
      "\u001b[0;31m---------------------------------------------------------------------------\u001b[0m",
      "\u001b[0;31mNameError\u001b[0m                                 Traceback (most recent call last)",
      "Input \u001b[0;32mIn [34]\u001b[0m, in \u001b[0;36m<cell line: 1>\u001b[0;34m()\u001b[0m\n\u001b[0;32m----> 1\u001b[0m \u001b[38;5;28;01mfor\u001b[39;00m i \u001b[38;5;129;01min\u001b[39;00m \u001b[38;5;28mrange\u001b[39m(\u001b[38;5;28mlen\u001b[39m(\u001b[43mX\u001b[49m)): \n\u001b[1;32m      2\u001b[0m     \u001b[38;5;28mprint\u001b[39m(X[i], y[i])\n",
      "\u001b[0;31mNameError\u001b[0m: name 'X' is not defined"
     ]
    }
   ],
   "source": []
  },
  {
   "cell_type": "code",
   "execution_count": null,
   "id": "9991e246-05c2-42ad-934e-7d4b1763a1af",
   "metadata": {},
   "outputs": [],
   "source": []
  }
 ],
 "metadata": {
  "kernelspec": {
   "display_name": "Python 3 (ipykernel)",
   "language": "python",
   "name": "python3"
  },
  "language_info": {
   "codemirror_mode": {
    "name": "ipython",
    "version": 3
   },
   "file_extension": ".py",
   "mimetype": "text/x-python",
   "name": "python",
   "nbconvert_exporter": "python",
   "pygments_lexer": "ipython3",
   "version": "3.9.7"
  }
 },
 "nbformat": 4,
 "nbformat_minor": 5
}
