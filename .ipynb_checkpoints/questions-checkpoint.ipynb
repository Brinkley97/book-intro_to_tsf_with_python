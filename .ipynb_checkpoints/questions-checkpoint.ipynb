{
 "cells": [
  {
   "cell_type": "markdown",
   "id": "1c1fce6f-b699-4412-a5fa-288446d7b5b0",
   "metadata": {},
   "source": [
    "# Questions"
   ]
  },
  {
   "cell_type": "markdown",
   "id": "89c8fcc8-e2e4-4372-ad1a-40cf1a0448dd",
   "metadata": {},
   "source": [
    "1. In CHs 3 and 5 we discuss transforming a time series problem to a supervised ML problem. Given this and a univariate TS problem, what are some of the better supervised ML algorithms to use and how do I know which to use?\n",
    "\n",
    "2. How much does my data (financial vs health) dictate the type of supervised ML algorithm I want to use?"
   ]
  },
  {
   "cell_type": "code",
   "execution_count": null,
   "id": "ac83cd19-21dd-4360-b1ed-fe1d216f5cb2",
   "metadata": {},
   "outputs": [],
   "source": []
  }
 ],
 "metadata": {
  "kernelspec": {
   "display_name": "Python 3 (ipykernel)",
   "language": "python",
   "name": "python3"
  },
  "language_info": {
   "codemirror_mode": {
    "name": "ipython",
    "version": 3
   },
   "file_extension": ".py",
   "mimetype": "text/x-python",
   "name": "python",
   "nbconvert_exporter": "python",
   "pygments_lexer": "ipython3",
   "version": "3.9.7"
  }
 },
 "nbformat": 4,
 "nbformat_minor": 5
}
