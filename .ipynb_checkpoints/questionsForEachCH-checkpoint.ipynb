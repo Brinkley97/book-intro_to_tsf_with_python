{
 "cells": [
  {
   "cell_type": "markdown",
   "id": "5a09872a-2210-484a-a1bf-54f8bf315963",
   "metadata": {},
   "source": [
    "# Questions for each CH"
   ]
  },
  {
   "cell_type": "markdown",
   "id": "04194835-849f-452f-98f6-a49219d92a83",
   "metadata": {},
   "source": [
    "### 1. What is X?\n",
    "### 2. Why is X important?\n",
    "### 3. What are some applications of X? What other concepts can I connect to X? Use FE when...\n",
    "### 4. What is the evolution/history of X?\n",
    "### 5. Can I predict the future use of X? How can this current usage of X improve?\n",
    "### 6. What don't I understand about X? Why is this? What's the root of this misunderstanding?"
   ]
  },
  {
   "cell_type": "code",
   "execution_count": null,
   "id": "a89c43ba-ccb7-4daa-8bd4-d55cbe2532e0",
   "metadata": {},
   "outputs": [],
   "source": []
  }
 ],
 "metadata": {
  "kernelspec": {
   "display_name": "Python 3 (ipykernel)",
   "language": "python",
   "name": "python3"
  },
  "language_info": {
   "codemirror_mode": {
    "name": "ipython",
    "version": 3
   },
   "file_extension": ".py",
   "mimetype": "text/x-python",
   "name": "python",
   "nbconvert_exporter": "python",
   "pygments_lexer": "ipython3",
   "version": "3.9.7"
  }
 },
 "nbformat": 4,
 "nbformat_minor": 5
}
