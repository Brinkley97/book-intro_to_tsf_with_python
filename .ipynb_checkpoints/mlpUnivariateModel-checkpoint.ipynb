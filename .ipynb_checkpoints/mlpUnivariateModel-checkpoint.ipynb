{
 "cells": [
  {
   "cell_type": "markdown",
   "id": "b081fda8-6ea3-4792-b53d-ac411aafbbb6",
   "metadata": {},
   "source": [
    "# Univariate MLP Models"
   ]
  },
  {
   "cell_type": "markdown",
   "id": "02de425e-31a4-4f3a-940e-1276d1bd43ef",
   "metadata": {},
   "source": [
    "# Imports + Load Data"
   ]
  },
  {
   "cell_type": "code",
   "execution_count": 1,
   "id": "9eddd50c-6c17-44b6-a069-2b66a2b54336",
   "metadata": {},
   "outputs": [
    {
     "name": "stderr",
     "output_type": "stream",
     "text": [
      "2023-06-07 14:22:26.377180: I tensorflow/core/platform/cpu_feature_guard.cc:193] This TensorFlow binary is optimized with oneAPI Deep Neural Network Library (oneDNN) to use the following CPU instructions in performance-critical operations:  SSE4.1 SSE4.2 AVX AVX2 FMA\n",
      "To enable them in other operations, rebuild TensorFlow with the appropriate compiler flags.\n"
     ]
    }
   ],
   "source": [
    "import math\n",
    "\n",
    "from keras.layers import Dense\n",
    "from keras.models import Sequential\n",
    "from sklearn.metrics import mean_squared_error"
   ]
  },
  {
   "cell_type": "code",
   "execution_count": 2,
   "id": "bf879e95-d122-4efd-8849-7439da284bce",
   "metadata": {},
   "outputs": [],
   "source": [
    "BASE = '/Users/brinkley97/Documents/development/'\n",
    "PATH_TO_BOOK = 'book-intro_to_tsf_with_python/'"
   ]
  },
  {
   "cell_type": "markdown",
   "id": "a9bc30b5-1b9d-4b4e-afb3-0b85ac6ec944",
   "metadata": {},
   "source": [
    "# Converting Univariate Time Series (UTS) to Supervised Machine Learning (SML) problem"
   ]
  },
  {
   "cell_type": "code",
   "execution_count": 3,
   "id": "ae9265f7-4139-4366-b394-f12c59273adf",
   "metadata": {},
   "outputs": [
    {
     "data": {
      "text/plain": [
       "[10, 20, 30, 40, 50, 60, 70, 80, 90]"
      ]
     },
     "execution_count": 3,
     "metadata": {},
     "output_type": "execute_result"
    }
   ],
   "source": [
    "univariate_time_series = [10, 20, 30, 40, 50, 60, 70, 80, 90]\n",
    "univariate_time_series"
   ]
  },
  {
   "cell_type": "code",
   "execution_count": 4,
   "id": "fdab5b87-6a97-457f-a7ef-4274d95b124a",
   "metadata": {},
   "outputs": [],
   "source": [
    "TS_AS_SML_FILE = BASE + PATH_TO_BOOK + '3-timeSeriesAsSupervisedLearning.ipynb'"
   ]
  },
  {
   "cell_type": "code",
   "execution_count": 5,
   "id": "e06b81ff-261c-4695-a4bb-0027a66ae7af",
   "metadata": {},
   "outputs": [],
   "source": [
    "# %load TS_AS_SML_FILE"
   ]
  },
  {
   "cell_type": "code",
   "execution_count": 6,
   "id": "74e72252-dbd3-431c-8915-f396c38facc0",
   "metadata": {},
   "outputs": [
    {
     "name": "stdout",
     "output_type": "stream",
     "text": [
      "Input Univariate Time Series:\n",
      "[ 1  2  3  4  5  6  7  8  9 10] \n",
      "X of size (10,)\n",
      "\n",
      "Univariate Time Series as Supervised Machine Learning:\n",
      "[1 2 3] 4\n",
      "[2 3 4] 5\n",
      "[3 4 5] 6\n",
      "[4 5 6] 7\n",
      "[5 6 7] 8\n",
      "[6 7 8] 9\n",
      "[7 8 9] 10\n",
      "X of size (7, 3)\n",
      "y of size (7,)\n",
      "     0    0    0   0     0\n",
      "0  NaN  NaN  NaN   1   2.0\n",
      "1  NaN  NaN  1.0   2   3.0\n",
      "2  NaN  1.0  2.0   3   4.0\n",
      "3  1.0  2.0  3.0   4   5.0\n",
      "4  2.0  3.0  4.0   5   6.0\n",
      "5  3.0  4.0  5.0   6   7.0\n",
      "6  4.0  5.0  6.0   7   8.0\n",
      "7  5.0  6.0  7.0   8   9.0\n",
      "8  6.0  7.0  8.0   9  10.0\n",
      "9  7.0  8.0  9.0  10   NaN\n",
      "Input Univariate Time Series:\n",
      "[10, 20, 30, 40, 50, 60, 70, 80, 90] \n",
      "X of size (9,)\n",
      "\n",
      "Univariate Time Series as Supervised Machine Learning:\n",
      "X_train: \n",
      "     t-3   t-2   t-1\n",
      "3  10.0  20.0  30.0\n",
      "4  20.0  30.0  40.0\n",
      "5  30.0  40.0  50.0\n",
      "6  40.0  50.0  60.0\n",
      "7  50.0  60.0  70.0\n",
      "y_train: \n",
      "     t   t+1\n",
      "3  40  50.0\n",
      "4  50  60.0\n",
      "5  60  70.0\n",
      "6  70  80.0\n",
      "7  80  90.0\n"
     ]
    }
   ],
   "source": [
    "%run $TS_AS_SML_FILE"
   ]
  },
  {
   "cell_type": "code",
   "execution_count": 7,
   "id": "c6722cb8-7597-4b88-a9b3-5f1fc3b72270",
   "metadata": {},
   "outputs": [
    {
     "name": "stdout",
     "output_type": "stream",
     "text": [
      "Input Univariate Time Series:\n",
      "[10, 20, 30, 40, 50, 60, 70, 80, 90] \n",
      "X of size (9,)\n",
      "\n",
      "Univariate Time Series as Supervised Machine Learning:\n",
      "X_train: \n",
      "     t-3   t-2   t-1\n",
      "3  10.0  20.0  30.0\n",
      "4  20.0  30.0  40.0\n",
      "5  30.0  40.0  50.0\n",
      "6  40.0  50.0  60.0\n",
      "7  50.0  60.0  70.0\n",
      "y_train: \n",
      "     t   t+1\n",
      "3  40  50.0\n",
      "4  50  60.0\n",
      "5  60  70.0\n",
      "6  70  80.0\n",
      "7  80  90.0\n"
     ]
    }
   ],
   "source": [
    "prior_observations, forecasting_step = [3, 2]\n",
    "X_train_df, y_train_df, X_y_df = convert_uts_sequence_to_sml_with_pd(univariate_time_series, prior_observations, forecasting_step) "
   ]
  },
  {
   "cell_type": "code",
   "execution_count": 8,
   "id": "ccb78fd4-09ac-4a7b-98d8-9056df6f2bae",
   "metadata": {},
   "outputs": [
    {
     "data": {
      "text/html": [
       "<div>\n",
       "<style scoped>\n",
       "    .dataframe tbody tr th:only-of-type {\n",
       "        vertical-align: middle;\n",
       "    }\n",
       "\n",
       "    .dataframe tbody tr th {\n",
       "        vertical-align: top;\n",
       "    }\n",
       "\n",
       "    .dataframe thead tr th {\n",
       "        text-align: left;\n",
       "    }\n",
       "</style>\n",
       "<table border=\"1\" class=\"dataframe\">\n",
       "  <thead>\n",
       "    <tr>\n",
       "      <th></th>\n",
       "      <th>t-3</th>\n",
       "      <th>t-2</th>\n",
       "      <th>t-1</th>\n",
       "    </tr>\n",
       "  </thead>\n",
       "  <tbody>\n",
       "    <tr>\n",
       "      <th>3</th>\n",
       "      <td>10.0</td>\n",
       "      <td>20.0</td>\n",
       "      <td>30.0</td>\n",
       "    </tr>\n",
       "    <tr>\n",
       "      <th>4</th>\n",
       "      <td>20.0</td>\n",
       "      <td>30.0</td>\n",
       "      <td>40.0</td>\n",
       "    </tr>\n",
       "    <tr>\n",
       "      <th>5</th>\n",
       "      <td>30.0</td>\n",
       "      <td>40.0</td>\n",
       "      <td>50.0</td>\n",
       "    </tr>\n",
       "    <tr>\n",
       "      <th>6</th>\n",
       "      <td>40.0</td>\n",
       "      <td>50.0</td>\n",
       "      <td>60.0</td>\n",
       "    </tr>\n",
       "    <tr>\n",
       "      <th>7</th>\n",
       "      <td>50.0</td>\n",
       "      <td>60.0</td>\n",
       "      <td>70.0</td>\n",
       "    </tr>\n",
       "  </tbody>\n",
       "</table>\n",
       "</div>"
      ],
      "text/plain": [
       "    t-3   t-2   t-1\n",
       "3  10.0  20.0  30.0\n",
       "4  20.0  30.0  40.0\n",
       "5  30.0  40.0  50.0\n",
       "6  40.0  50.0  60.0\n",
       "7  50.0  60.0  70.0"
      ]
     },
     "execution_count": 8,
     "metadata": {},
     "output_type": "execute_result"
    }
   ],
   "source": [
    "X_train_df"
   ]
  },
  {
   "cell_type": "code",
   "execution_count": 9,
   "id": "13c25160-45c4-4fa7-b4aa-7dc4a0bfb86a",
   "metadata": {},
   "outputs": [
    {
     "data": {
      "text/html": [
       "<div>\n",
       "<style scoped>\n",
       "    .dataframe tbody tr th:only-of-type {\n",
       "        vertical-align: middle;\n",
       "    }\n",
       "\n",
       "    .dataframe tbody tr th {\n",
       "        vertical-align: top;\n",
       "    }\n",
       "\n",
       "    .dataframe thead tr th {\n",
       "        text-align: left;\n",
       "    }\n",
       "</style>\n",
       "<table border=\"1\" class=\"dataframe\">\n",
       "  <thead>\n",
       "    <tr>\n",
       "      <th></th>\n",
       "      <th>t</th>\n",
       "      <th>t+1</th>\n",
       "    </tr>\n",
       "  </thead>\n",
       "  <tbody>\n",
       "    <tr>\n",
       "      <th>3</th>\n",
       "      <td>40</td>\n",
       "      <td>50.0</td>\n",
       "    </tr>\n",
       "    <tr>\n",
       "      <th>4</th>\n",
       "      <td>50</td>\n",
       "      <td>60.0</td>\n",
       "    </tr>\n",
       "    <tr>\n",
       "      <th>5</th>\n",
       "      <td>60</td>\n",
       "      <td>70.0</td>\n",
       "    </tr>\n",
       "    <tr>\n",
       "      <th>6</th>\n",
       "      <td>70</td>\n",
       "      <td>80.0</td>\n",
       "    </tr>\n",
       "    <tr>\n",
       "      <th>7</th>\n",
       "      <td>80</td>\n",
       "      <td>90.0</td>\n",
       "    </tr>\n",
       "  </tbody>\n",
       "</table>\n",
       "</div>"
      ],
      "text/plain": [
       "    t   t+1\n",
       "3  40  50.0\n",
       "4  50  60.0\n",
       "5  60  70.0\n",
       "6  70  80.0\n",
       "7  80  90.0"
      ]
     },
     "execution_count": 9,
     "metadata": {},
     "output_type": "execute_result"
    }
   ],
   "source": [
    "y_train_df"
   ]
  },
  {
   "cell_type": "code",
   "execution_count": 10,
   "id": "5b55e7b4-2502-4543-adb8-1ce4cb87c0a3",
   "metadata": {},
   "outputs": [
    {
     "data": {
      "text/html": [
       "<div>\n",
       "<style scoped>\n",
       "    .dataframe tbody tr th:only-of-type {\n",
       "        vertical-align: middle;\n",
       "    }\n",
       "\n",
       "    .dataframe tbody tr th {\n",
       "        vertical-align: top;\n",
       "    }\n",
       "\n",
       "    .dataframe thead tr th {\n",
       "        text-align: left;\n",
       "    }\n",
       "</style>\n",
       "<table border=\"1\" class=\"dataframe\">\n",
       "  <thead>\n",
       "    <tr>\n",
       "      <th></th>\n",
       "      <th>t-3</th>\n",
       "      <th>t-2</th>\n",
       "      <th>t-1</th>\n",
       "      <th>t</th>\n",
       "      <th>t+1</th>\n",
       "    </tr>\n",
       "  </thead>\n",
       "  <tbody>\n",
       "    <tr>\n",
       "      <th>3</th>\n",
       "      <td>10.0</td>\n",
       "      <td>20.0</td>\n",
       "      <td>30.0</td>\n",
       "      <td>40</td>\n",
       "      <td>50.0</td>\n",
       "    </tr>\n",
       "    <tr>\n",
       "      <th>4</th>\n",
       "      <td>20.0</td>\n",
       "      <td>30.0</td>\n",
       "      <td>40.0</td>\n",
       "      <td>50</td>\n",
       "      <td>60.0</td>\n",
       "    </tr>\n",
       "    <tr>\n",
       "      <th>5</th>\n",
       "      <td>30.0</td>\n",
       "      <td>40.0</td>\n",
       "      <td>50.0</td>\n",
       "      <td>60</td>\n",
       "      <td>70.0</td>\n",
       "    </tr>\n",
       "    <tr>\n",
       "      <th>6</th>\n",
       "      <td>40.0</td>\n",
       "      <td>50.0</td>\n",
       "      <td>60.0</td>\n",
       "      <td>70</td>\n",
       "      <td>80.0</td>\n",
       "    </tr>\n",
       "    <tr>\n",
       "      <th>7</th>\n",
       "      <td>50.0</td>\n",
       "      <td>60.0</td>\n",
       "      <td>70.0</td>\n",
       "      <td>80</td>\n",
       "      <td>90.0</td>\n",
       "    </tr>\n",
       "  </tbody>\n",
       "</table>\n",
       "</div>"
      ],
      "text/plain": [
       "    t-3   t-2   t-1   t   t+1\n",
       "3  10.0  20.0  30.0  40  50.0\n",
       "4  20.0  30.0  40.0  50  60.0\n",
       "5  30.0  40.0  50.0  60  70.0\n",
       "6  40.0  50.0  60.0  70  80.0\n",
       "7  50.0  60.0  70.0  80  90.0"
      ]
     },
     "execution_count": 10,
     "metadata": {},
     "output_type": "execute_result"
    }
   ],
   "source": [
    "X_y_df"
   ]
  },
  {
   "cell_type": "code",
   "execution_count": 26,
   "id": "156d6e7a-db64-4df7-adfc-5427e50b3df6",
   "metadata": {},
   "outputs": [],
   "source": [
    "def get_x_y_training_values(X_train_df, y_train_df, X_y_df, forecasting_step):\n",
    "    X_train = X_train_df.values\n",
    "    # print(\"X_train:\", X_train.shape, X_train)\n",
    "    y_train = y_train_df.values\n",
    "    # print(\"y_train\", y_train.shape, y_train)\n",
    "    \n",
    "    x_input = X_y_df.iloc[-1:, forecasting_step:].values\n",
    "    \n",
    "    return X_train, y_train, x_input"
   ]
  },
  {
   "cell_type": "code",
   "execution_count": 27,
   "id": "b7b18282-f08f-46cd-8fea-7d20c3751b38",
   "metadata": {},
   "outputs": [],
   "source": [
    "X_train_values, y_train_values, X_y_values = get_x_y_training_values(X_train_df, y_train_df, X_y_df, forecasting_step)"
   ]
  },
  {
   "cell_type": "code",
   "execution_count": 28,
   "id": "eb6893fe-bca1-4379-8251-a36e3a22fe7a",
   "metadata": {},
   "outputs": [
    {
     "data": {
      "text/plain": [
       "array([[10., 20., 30.],\n",
       "       [20., 30., 40.],\n",
       "       [30., 40., 50.],\n",
       "       [40., 50., 60.],\n",
       "       [50., 60., 70.]])"
      ]
     },
     "execution_count": 28,
     "metadata": {},
     "output_type": "execute_result"
    }
   ],
   "source": [
    "X_train_values"
   ]
  },
  {
   "cell_type": "code",
   "execution_count": 29,
   "id": "856c2257-3749-431e-9f92-83cf30d1f623",
   "metadata": {},
   "outputs": [
    {
     "data": {
      "text/plain": [
       "array([[40., 50.],\n",
       "       [50., 60.],\n",
       "       [60., 70.],\n",
       "       [70., 80.],\n",
       "       [80., 90.]])"
      ]
     },
     "execution_count": 29,
     "metadata": {},
     "output_type": "execute_result"
    }
   ],
   "source": [
    "y_train_values"
   ]
  },
  {
   "cell_type": "code",
   "execution_count": 30,
   "id": "d2edd28d-8432-41d9-abc3-dedd9d5fe2f9",
   "metadata": {},
   "outputs": [
    {
     "data": {
      "text/plain": [
       "array([[70., 80., 90.]])"
      ]
     },
     "execution_count": 30,
     "metadata": {},
     "output_type": "execute_result"
    }
   ],
   "source": [
    "X_y_values"
   ]
  },
  {
   "cell_type": "markdown",
   "id": "857c75e7-0913-4f64-9020-1f81f3dbc775",
   "metadata": {},
   "source": [
    "# Create Keras model, fit, and predict"
   ]
  },
  {
   "cell_type": "code",
   "execution_count": 22,
   "id": "0a0fdc01-eb06-4ad1-a999-cdd5ff163732",
   "metadata": {},
   "outputs": [],
   "source": [
    "def univariate_mlp_model(X_train, y_train, x_for_prediction, ytrue, prior_observations, forecasting_step):\n",
    "    \n",
    "    model = Sequential()\n",
    "    model.add(Dense(100, activation='relu', input_dim=prior_observations))\n",
    "    model.add(Dense(forecasting_step))\n",
    "    model.compile(optimizer='adam', loss='mse')\n",
    "    model.fit(X_train, y_train, epochs=2000, verbose=0)\n",
    "    \n",
    "    \n",
    "    # for i in range(len(ytrue)):\n",
    "    X_input = x_for_prediction.reshape((1, prior_observations))\n",
    "    print(X_input)\n",
    "    print()\n",
    "    yhats = model.predict(X_input, verbose=0)\n",
    "    # predictions.append(yhat)\n",
    "    yhats = yhats.tolist()\n",
    "    yhats = sum(yhats, [])\n",
    "        \n",
    "    for yhats_idx in range(len(yhats)):\n",
    "        yhat = yhats[yhats_idx]\n",
    "        print(\"TRUE Y LABEL @\", yhats_idx, \" = \", ytrue[yhats_idx])\n",
    "        print(\"PREDICTED Y LABEL @\", yhats_idx, \" = \", yhat)\n",
    "        print()\n",
    "        \n",
    "    error = math.sqrt(mean_squared_error(ytrue, yhats))\n",
    "    print(\"ERROR = \", error)\n",
    "    \n",
    "    return error"
   ]
  },
  {
   "cell_type": "code",
   "execution_count": 23,
   "id": "897c0d10-af4d-4736-a798-3e8a06dd1592",
   "metadata": {},
   "outputs": [],
   "source": [
    "ytrue = [100, 110]"
   ]
  },
  {
   "cell_type": "code",
   "execution_count": 31,
   "id": "3a46aaf1-8b88-4b77-a0e0-ef9add8043c0",
   "metadata": {},
   "outputs": [
    {
     "name": "stdout",
     "output_type": "stream",
     "text": [
      "[[70. 80. 90.]]\n",
      "\n",
      "WARNING:tensorflow:5 out of the last 5 calls to <function Model.make_predict_function.<locals>.predict_function at 0x170fe3dc0> triggered tf.function retracing. Tracing is expensive and the excessive number of tracings could be due to (1) creating @tf.function repeatedly in a loop, (2) passing tensors with different shapes, (3) passing Python objects instead of tensors. For (1), please define your @tf.function outside of the loop. For (2), @tf.function has reduce_retracing=True option that can avoid unnecessary retracing. For (3), please refer to https://www.tensorflow.org/guide/function#controlling_retracing and https://www.tensorflow.org/api_docs/python/tf/function for  more details.\n",
      "TRUE Y LABEL @ 0  =  100\n",
      "PREDICTED Y LABEL @ 0  =  101.15876007080078\n",
      "\n",
      "TRUE Y LABEL @ 1  =  110\n",
      "PREDICTED Y LABEL @ 1  =  112.00273895263672\n",
      "\n",
      "ERROR =  1.6361063862247243\n"
     ]
    },
    {
     "data": {
      "text/plain": [
       "1.6361063862247243"
      ]
     },
     "execution_count": 31,
     "metadata": {},
     "output_type": "execute_result"
    }
   ],
   "source": [
    "univariate_mlp_model(X_train_values, y_train_values, X_y_values, ytrue, prior_observations, forecasting_step)"
   ]
  },
  {
   "cell_type": "code",
   "execution_count": null,
   "id": "311cd454-be58-4c0e-9930-cefcca878be0",
   "metadata": {},
   "outputs": [],
   "source": []
  }
 ],
 "metadata": {
  "kernelspec": {
   "display_name": "Python 3 (ipykernel)",
   "language": "python",
   "name": "python3"
  },
  "language_info": {
   "codemirror_mode": {
    "name": "ipython",
    "version": 3
   },
   "file_extension": ".py",
   "mimetype": "text/x-python",
   "name": "python",
   "nbconvert_exporter": "python",
   "pygments_lexer": "ipython3",
   "version": "3.9.16"
  }
 },
 "nbformat": 4,
 "nbformat_minor": 5
}
