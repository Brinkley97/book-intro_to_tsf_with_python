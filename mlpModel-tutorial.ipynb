{
 "cells": [
  {
   "cell_type": "markdown",
   "id": "d8e63f01-296a-449d-9fb3-70aedf7a4b05",
   "metadata": {},
   "source": [
    "# 7.2.2. Multi Layer Perception Model\n",
    "\n",
    "1. See Notion Notes for short-hand notation, explanations, my thoughts, etc.\n",
    "2. BOOKS:\n",
    "    - Deep Learning for Time Series Forecasting - Predict the Future with MLPs, CNNs and LSTMs in Python by Jason Brownlee\n",
    "    - Introduction to TSF with Python - How to Prepare Data and Develop Models to Predict the Future by Jason Brownlee"
   ]
  },
  {
   "cell_type": "markdown",
   "id": "f5754059-f73d-4f20-9cbd-8f27e16cefd7",
   "metadata": {},
   "source": [
    "# Imports"
   ]
  },
  {
   "cell_type": "code",
   "execution_count": 1,
   "id": "cc69620c-608f-4d1d-9540-8374072e0507",
   "metadata": {},
   "outputs": [
    {
     "name": "stdout",
     "output_type": "stream",
     "text": [
      "zsh:1: command not found: cond\n"
     ]
    }
   ],
   "source": [
    "# !cond"
   ]
  },
  {
   "cell_type": "code",
   "execution_count": 2,
   "id": "2eccd41c-3d0b-4942-ad00-3a42f58ffb57",
   "metadata": {},
   "outputs": [
    {
     "name": "stderr",
     "output_type": "stream",
     "text": [
      "2023-05-24 22:08:34.446816: I tensorflow/core/platform/cpu_feature_guard.cc:182] This TensorFlow binary is optimized to use available CPU instructions in performance-critical operations.\n",
      "To enable the following instructions: AVX2 FMA, in other operations, rebuild TensorFlow with the appropriate compiler flags.\n"
     ]
    }
   ],
   "source": [
    "# import numpy as np \n",
    "from math import sqrt \n",
    "from numpy import array \n",
    "from numpy import mean \n",
    "from numpy import std \n",
    "from pandas import DataFrame \n",
    "from pandas import concat \n",
    "from pandas import read_csv \n",
    "from sklearn.metrics import mean_squared_error \n",
    "from keras.models import Sequential\n",
    "\n",
    "from keras.models import Sequential \n",
    "from keras.layers import Dense\n",
    "from matplotlib import pyplot"
   ]
  },
  {
   "cell_type": "code",
   "execution_count": 3,
   "id": "3ce953da-c619-4680-8cc0-0d2ecbc63700",
   "metadata": {},
   "outputs": [],
   "source": [
    "BASE = '/Users/brinkley97/Documents/development/'"
   ]
  },
  {
   "cell_type": "code",
   "execution_count": 4,
   "id": "bd7fccdd-aa53-4236-adcd-8993a31a3bd5",
   "metadata": {},
   "outputs": [
    {
     "data": {
      "text/plain": [
       "'/Users/brinkley97/Documents/development/book-intro_to_tsf_with_python/3-timeSeriesAsSupervisedLearning.ipynb'"
      ]
     },
     "execution_count": 4,
     "metadata": {},
     "output_type": "execute_result"
    }
   ],
   "source": [
    "PATH_TO_BOOK = 'book-intro_to_tsf_with_python/'\n",
    "TS_AS_SML_FILE = BASE + PATH_TO_BOOK + '3-timeSeriesAsSupervisedLearning.ipynb'\n",
    "TS_AS_SML_FILE"
   ]
  },
  {
   "cell_type": "code",
   "execution_count": 5,
   "id": "4b9f7a62-e15f-481b-b7dd-29dd97179473",
   "metadata": {},
   "outputs": [],
   "source": [
    "# %load TS_AS_SML_FILE\n",
    "/Users/brinkley97/Documents/development/book-intro_to_tsf_with_python/3-timeSeriesAsSupervisedLearning.ipynb"
   ]
  },
  {
   "cell_type": "code",
   "execution_count": 6,
   "id": "b1a8691f-353a-468b-8d05-d9df240d79eb",
   "metadata": {},
   "outputs": [
    {
     "name": "stdout",
     "output_type": "stream",
     "text": [
      "Input Univariate Time Series:\n",
      "[ 1  2  3  4  5  6  7  8  9 10] \n",
      "X of size (10,)\n",
      "\n",
      "Univariate Time Series as Supervised Machine Learning:\n",
      "[1 2 3] 4\n",
      "[2 3 4] 5\n",
      "[3 4 5] 6\n",
      "[4 5 6] 7\n",
      "[5 6 7] 8\n",
      "[6 7 8] 9\n",
      "[7 8 9] 10\n",
      "X of size (7, 3)\n",
      "y of size (7,)\n"
     ]
    }
   ],
   "source": [
    "%run $TS_AS_SML_FILE"
   ]
  },
  {
   "cell_type": "code",
   "execution_count": 7,
   "id": "26f55da2-5957-4883-bd4c-1a5ca8ec390f",
   "metadata": {},
   "outputs": [
    {
     "name": "stdout",
     "output_type": "stream",
     "text": [
      "Input Univariate Time Series:\n",
      "[10, 20, 30, 40, 50, 60, 70, 80, 90] \n",
      "X of size (9,)\n",
      "\n",
      "Univariate Time Series as Supervised Machine Learning:\n",
      "[10, 20, 30] 40\n",
      "[20, 30, 40] 50\n",
      "[30, 40, 50] 60\n",
      "[40, 50, 60] 70\n",
      "[50, 60, 70] 80\n",
      "[60, 70, 80] 90\n",
      "X of size (6, 3)\n",
      "y of size (6,)\n"
     ]
    },
    {
     "data": {
      "text/plain": [
       "(array([[10, 20, 30],\n",
       "        [20, 30, 40],\n",
       "        [30, 40, 50],\n",
       "        [40, 50, 60],\n",
       "        [50, 60, 70],\n",
       "        [60, 70, 80]]),\n",
       " array([40, 50, 60, 70, 80, 90]))"
      ]
     },
     "execution_count": 7,
     "metadata": {},
     "output_type": "execute_result"
    }
   ],
   "source": [
    "series = [10, 20, 30, 40, 50, 60, 70, 80, 90]\n",
    "n_steps = 3\n",
    "convert_uts_sequence_to_sml(series, n_steps)"
   ]
  },
  {
   "cell_type": "markdown",
   "id": "cc48fdda-7153-427e-a8e5-a99f3827a5f4",
   "metadata": {},
   "source": [
    "# For Single Input"
   ]
  },
  {
   "cell_type": "code",
   "execution_count": 8,
   "id": "52789a8f-7178-4882-b3ed-0a3cc86fd1e1",
   "metadata": {},
   "outputs": [],
   "source": [
    "model = Sequential()\n",
    "model.add(Dense(100, activation='relu' , input_dim=n_steps))\n",
    "model.add(Dense(1))\n",
    "model.compile(optimizer='adam' , loss='mse')"
   ]
  },
  {
   "cell_type": "code",
   "execution_count": 9,
   "id": "f777f37b-14e0-4a2c-98f3-72cb412c8714",
   "metadata": {},
   "outputs": [
    {
     "name": "stdout",
     "output_type": "stream",
     "text": [
      "[[88.999954]]\n"
     ]
    }
   ],
   "source": [
    "# fit model \n",
    "model.fit(X, y, epochs=2000, verbose=0) \n",
    "# demonstrate prediction \n",
    "x_input = array([70, 80, 90])\n",
    "x_input = x_input.reshape((1, n_steps)) \n",
    "yhat = model.predict(x_input, verbose=0)\n",
    "print(yhat)"
   ]
  },
  {
   "cell_type": "markdown",
   "id": "b998cf99-ab26-4b18-b031-46aca11a3312",
   "metadata": {},
   "source": [
    "# For Full Datasets"
   ]
  },
  {
   "cell_type": "code",
   "execution_count": 10,
   "id": "f65a60cb-7c6b-47d4-a28f-408156d015b8",
   "metadata": {},
   "outputs": [],
   "source": [
    "# split a univariate dataset into train/test sets \n",
    "def train_test_split(data, n_test):\n",
    "    return data[:-n_test], data[-n_test:]"
   ]
  },
  {
   "cell_type": "code",
   "execution_count": 11,
   "id": "4ef7d5da-e824-4e68-89dd-4b49cda26b79",
   "metadata": {},
   "outputs": [],
   "source": [
    "def series_to_supervised(data, n_in, n_out=1):\n",
    "    \n",
    "    df = DataFrame(data)\n",
    "    cols = list()\n",
    "    \n",
    "    # input sequence (t-n, ... t-1)\n",
    "    for i in range(n_in, 0, -1):\n",
    "        cols.append(df.shift(i))\n",
    "    \n",
    "    # forecast sequence (t, t+1, ... t+n)\n",
    "    for i in range(0, n_out):\n",
    "        cols.append(df.shift(-i))\n",
    "        \n",
    "        # put it all together\n",
    "        agg = concat(cols, axis=1) \n",
    "        \n",
    "        # drop rows with NaN values\n",
    "        agg.dropna(inplace=True)\n",
    "    \n",
    "    return agg.values"
   ]
  },
  {
   "cell_type": "code",
   "execution_count": null,
   "id": "5ef6d103-0507-4f2e-986d-6caade15342e",
   "metadata": {},
   "outputs": [],
   "source": []
  },
  {
   "cell_type": "code",
   "execution_count": 12,
   "id": "8d487b64-4a94-401c-a736-eea3c770579c",
   "metadata": {},
   "outputs": [],
   "source": [
    "# root mean squared error or rmse\n",
    "def measure_rmse(actual, predicted):\n",
    "    return sqrt(mean_squared_error(actual, predicted))"
   ]
  },
  {
   "cell_type": "code",
   "execution_count": 13,
   "id": "da098a26-e54d-4380-a89d-b50062591c65",
   "metadata": {},
   "outputs": [],
   "source": [
    "# fit a model \n",
    "def model_fit(train, config): \n",
    "    # unpack config \n",
    "    n_input, n_nodes, n_epochs, n_batch = config \n",
    "    # prepare data \n",
    "    data = series_to_supervised(train, n_input) \n",
    "    train_x, train_y = data[:, :-1], data[:, -1] \n",
    "    # define model\n",
    "    model = Sequential() \n",
    "    model.add(Dense(n_nodes, activation='relu' , input_dim=n_input)) \n",
    "    model.add(Dense(1)) \n",
    "    model.compile(loss='mse' , optimizer='adam' ) \n",
    "    \n",
    "    # fit\n",
    "    model.fit(train_x, train_y, epochs=n_epochs, batch_size=n_batch, verbose=0) \n",
    "    \n",
    "    return model"
   ]
  },
  {
   "cell_type": "code",
   "execution_count": 14,
   "id": "2be572bd-5100-492d-b2b9-14b8273afe78",
   "metadata": {},
   "outputs": [],
   "source": [
    "# forecast with a pre-fit model \n",
    "def model_predict(model, history, config): \n",
    "    # unpack config \n",
    "    n_input, _, _, _ = config \n",
    "    # prepare data \n",
    "    x_input = array(history[-n_input:]).reshape(1, n_input) \n",
    "    # forecast \n",
    "    yhat = model.predict(x_input, verbose=0) \n",
    "    \n",
    "    return yhat[0]"
   ]
  },
  {
   "cell_type": "code",
   "execution_count": 15,
   "id": "1c76a73a-37e8-4c4c-ad82-663431a5570f",
   "metadata": {},
   "outputs": [],
   "source": [
    "# walk-forward validation for univariate data \n",
    "def walk_forward_validation(data, n_test, cfg): \n",
    "    predictions = list()\n",
    "    \n",
    "    # split dataset \n",
    "    train, test = train_test_split(data, n_test) \n",
    "    # fit model \n",
    "    model = model_fit(train, cfg) \n",
    "    # seed history with training dataset \n",
    "    history = [x for x in train]\n",
    "    \n",
    "    # step over each time-step in the test set \n",
    "    for i in range(len(test)): \n",
    "        # fit model and make forecast for history \n",
    "        yhat = model_predict(model, history, cfg) \n",
    "        \n",
    "        # store forecast in list of predictions \n",
    "        predictions.append(yhat) \n",
    "        \n",
    "        # add actual observation to history for the next loop \n",
    "        history.append(test[i])\n",
    "        \n",
    "    # estimate prediction error \n",
    "    error = measure_rmse(test, predictions) \n",
    "    print('> %.3f' % error) \n",
    "    \n",
    "    return error"
   ]
  },
  {
   "cell_type": "code",
   "execution_count": 16,
   "id": "47526d01-8610-4dbf-8e53-a65dd1396752",
   "metadata": {},
   "outputs": [],
   "source": [
    "# repeat evaluation of a config \n",
    "def repeat_evaluate(data, config, n_test, n_repeats=30): \n",
    "    \n",
    "    # fit and evaluate the model n times \n",
    "    scores = [walk_forward_validation(data, n_test, config) for _ in range(n_repeats)]\n",
    "    \n",
    "    return scores"
   ]
  },
  {
   "cell_type": "code",
   "execution_count": 17,
   "id": "26939aa4-2b4a-4bae-8060-3e7fc9fc1cf3",
   "metadata": {},
   "outputs": [],
   "source": [
    "# summarize model performance\n",
    "def summarize_scores(name, scores): \n",
    "    # print a summary\n",
    "    scores_m, score_std = mean(scores), std(scores)\n",
    "    print(' %s: %.3f RMSE (+/- %.3f)' % (name, scores_m, score_std)) \n",
    "    \n",
    "    # box and whisker plot \n",
    "    pyplot.boxplot(scores)\n",
    "    pyplot.show()"
   ]
  },
  {
   "cell_type": "code",
   "execution_count": 18,
   "id": "59e2dc7b-de72-4193-aa26-4f99c597110e",
   "metadata": {},
   "outputs": [],
   "source": [
    "dataset = BASE + PATH_TO_BOOK + 'datasets/daily-min-temperatures.csv'"
   ]
  },
  {
   "cell_type": "code",
   "execution_count": 19,
   "id": "3aaa5bc1-2dff-4fd5-afb9-314322d0f1a4",
   "metadata": {},
   "outputs": [
    {
     "name": "stdout",
     "output_type": "stream",
     "text": [
      "> 1.728\n",
      "> 1.603\n",
      "> 1.849\n",
      "> 1.831\n",
      "> 1.711\n",
      "> 1.965\n",
      "> 1.692\n",
      "> 1.786\n",
      "> 1.716\n",
      "> 2.028\n",
      "> 1.669\n",
      "> 1.692\n",
      "> 1.526\n",
      "> 1.699\n",
      "> 1.620\n",
      "> 1.818\n",
      "> 1.957\n",
      "> 2.136\n",
      "> 1.656\n",
      "> 2.002\n",
      "> 1.751\n",
      "> 1.786\n",
      "> 1.606\n",
      "> 1.727\n",
      "> 1.797\n",
      "> 1.682\n",
      "> 1.647\n",
      "> 1.697\n",
      "> 1.826\n",
      "> 1.571\n",
      " mlp: 1.759 RMSE (+/- 0.141)\n"
     ]
    },
    {
     "data": {
      "image/png": "[encoded data removed]",
      "text/plain": [
       "<Figure size 432x288 with 1 Axes>"
      ]
     },
     "metadata": {
      "needs_background": "light"
     },
     "output_type": "display_data"
    }
   ],
   "source": [
    "series = read_csv(dataset, header=0, index_col=0)\n",
    "data = series.values\n",
    "# data split \n",
    "n_test = 12 \n",
    "\n",
    "# define config\n",
    "config = [24, 500, 100, 100] \n",
    "# grid search \n",
    "scores = repeat_evaluate(data, config, n_test)\n",
    "# summarize scores \n",
    "summarize_scores('mlp' , scores)"
   ]
  },
  {
   "cell_type": "code",
   "execution_count": null,
   "id": "811441c6-1d10-4e1f-aa15-fa1bc7fa8f2d",
   "metadata": {},
   "outputs": [],
   "source": []
  },
  {
   "cell_type": "code",
   "execution_count": null,
   "id": "f5d4045f-c50b-4cec-8767-7fd0cdfd0a7f",
   "metadata": {},
   "outputs": [],
   "source": []
  }
 ],
 "metadata": {
  "kernelspec": {
   "display_name": "Python 3 (ipykernel)",
   "language": "python",
   "name": "python3"
  },
  "language_info": {
   "codemirror_mode": {
    "name": "ipython",
    "version": 3
   },
   "file_extension": ".py",
   "mimetype": "text/x-python",
   "name": "python",
   "nbconvert_exporter": "python",
   "pygments_lexer": "ipython3",
   "version": "3.9.16"
  }
 },
 "nbformat": 4,
 "nbformat_minor": 5
}
