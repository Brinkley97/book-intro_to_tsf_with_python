{
 "cells": [
  {
   "cell_type": "markdown",
   "id": "04194835-849f-452f-98f6-a49219d92a83",
   "metadata": {
    "tags": []
   },
   "source": [
    "# Time Series as Supervised Machine Learning\n",
    "- [Notes via Notion](https://detraviousjbrinkley.notion.site/Introduction-to-Time-Series-Forecasting-with-Python-by-Jason-Brownlee-ba37f3ef52784171ab51f1c0d9ab68c5)\n",
    "    - See for short-hand notation"
   ]
  },
  {
   "cell_type": "markdown",
   "id": "3a021a41-6b11-4192-a0f0-693867df1cb6",
   "metadata": {},
   "source": [
    "# Imports"
   ]
  },
  {
   "cell_type": "code",
   "execution_count": 1,
   "id": "e3eb0af5-710b-44e2-bb22-c94c0fafc35d",
   "metadata": {},
   "outputs": [],
   "source": [
    "import numpy as np"
   ]
  },
  {
   "cell_type": "markdown",
   "id": "cadf157d-fbce-46ac-95cf-c9b8eb491cd6",
   "metadata": {
    "tags": []
   },
   "source": [
    "# Transform Time Series Problem to Supervised Learning Problem (Book Solution)"
   ]
  },
  {
   "cell_type": "code",
   "execution_count": 77,
   "id": "6e73cfff-3859-4801-8e88-f54c44326633",
   "metadata": {},
   "outputs": [],
   "source": [
    "def split_sequence(sequence, n_steps):\n",
    "    X, y = list(), list()\n",
    "    for i in range(len(sequence)):\n",
    "        \n",
    "        # find the end of this pattern\n",
    "        end_ix = i + n_steps\n",
    "        \n",
    "        # check if we are beyond the sequence \n",
    "        if end_ix > len(sequence) - 1 : \n",
    "            break\n",
    "        # gather input and output parts of the pattern \n",
    "        seq_x, seq_y = sequence[i:end_ix], sequence[end_ix] \n",
    "        X.append(seq_x)\n",
    "        y.append(seq_y)\n",
    "    \n",
    "    for i in range(len(X)): \n",
    "        X[i], y[i]\n",
    "    \n",
    "    # print(np.shape(X), np.shape(y))\n",
    "    \n",
    "    return np.array(X), np.array(y)"
   ]
  },
  {
   "cell_type": "code",
   "execution_count": 78,
   "id": "449c198e-454f-4c69-bcad-61bc37e6e133",
   "metadata": {},
   "outputs": [
    {
     "data": {
      "text/plain": [
       "(array([[1, 2, 3],\n",
       "        [2, 3, 4],\n",
       "        [3, 4, 5],\n",
       "        [4, 5, 6],\n",
       "        [5, 6, 7],\n",
       "        [6, 7, 8],\n",
       "        [7, 8, 9]]),\n",
       " array([ 4,  5,  6,  7,  8,  9, 10]))"
      ]
     },
     "execution_count": 78,
     "metadata": {},
     "output_type": "execute_result"
    }
   ],
   "source": [
    "series = np.array([1, 2, 3, 4, 5, 6, 7, 8, 9, 10])\n",
    "# print(np.shape(series))\n",
    "split_sequence(series, 3)"
   ]
  },
  {
   "cell_type": "markdown",
   "id": "120b052a-3091-4aed-a062-7d06795f1466",
   "metadata": {},
   "source": [
    "# Convert Univariate Time Series Sequence to Supervised Machine Learning"
   ]
  },
  {
   "cell_type": "code",
   "execution_count": 85,
   "id": "f8205c00-02a6-4d22-8dc7-6845e6313a30",
   "metadata": {
    "tags": []
   },
   "outputs": [],
   "source": [
    "def convert_uts_sequence_to_sml(uts_observations, n_dimensions):\n",
    "    \"\"\"Splits a given UTS into multiple input rows where each input row has a specified number of timestamps and the output is a single timestamp.\n",
    "    \n",
    "    uts_observations -- 1D np array (of UTS data to transform to SML data with size  b rows/length x 1 dimension)\n",
    "    n_dimensions -- int (of the number of columns to use for SML 1 row x j dimensions)\n",
    "    \n",
    "    return -- 2D np array (of the split sequence with size b rows x j dimensions)\n",
    "    \"\"\"\n",
    "    X = []\n",
    "    y = []\n",
    "    \n",
    "    print(\"Input Univariate Time Series:\")\n",
    "    print(uts_observations, \"\\nX of size\", np.shape(uts_observations))\n",
    "    print()\n",
    "    \n",
    "    for uts_observations_idx in range(len(uts_observations)):\n",
    "        \n",
    "        yth_idx = uts_observations_idx + n_dimensions\n",
    "        # print(yth_idx)\n",
    "        \n",
    "        if yth_idx == len(uts_observations):\n",
    "            break\n",
    "        \n",
    "        # set the size of all X inputs\n",
    "        new_X_inputs = uts_observations[uts_observations_idx : yth_idx]\n",
    "        # print(new_X_inputs)\n",
    "        \n",
    "        X.append(new_X_inputs)\n",
    "        # print(X)\n",
    "        \n",
    "        new_y_true_labels = uts_observations[yth_idx]\n",
    "        # print(new_y_true_labels)\n",
    "        \n",
    "        y.append(new_y_true_labels)\n",
    "        # print(y)\n",
    "        # print()\n",
    "    print(\"Univariate Time Series as Supervised Machine Learning:\")\n",
    "    for i in range(len(X)):\n",
    "        print(X[i], y[i])\n",
    "     \n",
    "    \n",
    "    print(\"X of size\", np.shape(X))\n",
    "    print(\"y of size\", np.shape(y))\n",
    "    \n",
    "    return np.array(X), np.array(y)"
   ]
  },
  {
   "cell_type": "code",
   "execution_count": 86,
   "id": "f5e23dd5-baa6-4f1a-9347-66e54ea6e350",
   "metadata": {},
   "outputs": [
    {
     "name": "stdout",
     "output_type": "stream",
     "text": [
      "Input Univariate Time Series:\n",
      "[ 1  2  3  4  5  6  7  8  9 10] \n",
      "X of size (10,)\n",
      "\n",
      "Univariate Time Series as Supervised Machine Learning:\n",
      "[1 2 3] 4\n",
      "[2 3 4] 5\n",
      "[3 4 5] 6\n",
      "[4 5 6] 7\n",
      "[5 6 7] 8\n",
      "[6 7 8] 9\n",
      "[7 8 9] 10\n",
      "X of size (7, 3)\n",
      "y of size (7,)\n"
     ]
    }
   ],
   "source": [
    "time_series_data = np.array([1, 2, 3, 4, 5, 6, 7, 8, 9, 10])\n",
    "\n",
    "X, y = convert_uts_sequence_to_sml(time_series_data, 3)"
   ]
  },
  {
   "cell_type": "code",
   "execution_count": 69,
   "id": "664bac27-f173-433e-93bd-146234767907",
   "metadata": {},
   "outputs": [],
   "source": [
    "# X"
   ]
  },
  {
   "cell_type": "code",
   "execution_count": 70,
   "id": "8c028a2f-8f75-4deb-8801-2a13e8a67cc0",
   "metadata": {},
   "outputs": [],
   "source": [
    "# y"
   ]
  },
  {
   "cell_type": "code",
   "execution_count": null,
   "id": "9fadd854-db8a-47bb-9ee8-edbaba75ee61",
   "metadata": {},
   "outputs": [],
   "source": []
  }
 ],
 "metadata": {
  "kernelspec": {
   "display_name": "Python 3 (ipykernel)",
   "language": "python",
   "name": "python3"
  },
  "language_info": {
   "codemirror_mode": {
    "name": "ipython",
    "version": 3
   },
   "file_extension": ".py",
   "mimetype": "text/x-python",
   "name": "python",
   "nbconvert_exporter": "python",
   "pygments_lexer": "ipython3",
   "version": "3.9.7"
  }
 },
 "nbformat": 4,
 "nbformat_minor": 5
}
