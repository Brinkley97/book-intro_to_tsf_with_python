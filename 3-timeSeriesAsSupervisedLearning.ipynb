{
 "cells": [
  {
   "cell_type": "markdown",
   "id": "04194835-849f-452f-98f6-a49219d92a83",
   "metadata": {
    "tags": []
   },
   "source": [
    "# Time Series as Supervised Machine Learning\n",
    "- See [Notion Notes](https://detraviousjbrinkley.notion.site/Introduction-to-Time-Series-Forecasting-with-Python-by-Jason-Brownlee-ba37f3ef52784171ab51f1c0d9ab68c5) for short-hand notation, explanations, my thoughts, etc.\n",
    "- BOOKS:\n",
    "    1. Deep Learning for Time Series Forecasting - Predict the Future with MLPs, CNNs and LSTMs in Python by Jason Brownlee\n",
    "    2. Introduction to TSF with Python - How to Prepare Data and Develop Models to Predict the Future by Jason Brownlee"
   ]
  },
  {
   "cell_type": "markdown",
   "id": "3a021a41-6b11-4192-a0f0-693867df1cb6",
   "metadata": {},
   "source": [
    "# Imports"
   ]
  },
  {
   "cell_type": "code",
   "execution_count": 1,
   "id": "e3eb0af5-710b-44e2-bb22-c94c0fafc35d",
   "metadata": {},
   "outputs": [],
   "source": [
    "import numpy as np\n",
    "import pandas as pd"
   ]
  },
  {
   "cell_type": "markdown",
   "id": "cadf157d-fbce-46ac-95cf-c9b8eb491cd6",
   "metadata": {
    "tags": []
   },
   "source": [
    "# Book Solution"
   ]
  },
  {
   "cell_type": "code",
   "execution_count": 2,
   "id": "6e73cfff-3859-4801-8e88-f54c44326633",
   "metadata": {},
   "outputs": [],
   "source": [
    "def split_sequence(sequence, n_steps):\n",
    "    X, y = list(), list()\n",
    "    for i in range(len(sequence)):\n",
    "        \n",
    "        # find the end of this pattern\n",
    "        end_ix = i + n_steps\n",
    "        \n",
    "        # check if we are beyond the sequence \n",
    "        if end_ix > len(sequence) - 1 : \n",
    "            break\n",
    "        # gather input and output parts of the pattern \n",
    "        seq_x, seq_y = sequence[i:end_ix], sequence[end_ix] \n",
    "        X.append(seq_x)\n",
    "        y.append(seq_y)\n",
    "    \n",
    "    for i in range(len(X)): \n",
    "        X[i], y[i]\n",
    "    \n",
    "    # print(np.shape(X), np.shape(y))\n",
    "    \n",
    "    return np.array(X), np.array(y)"
   ]
  },
  {
   "cell_type": "code",
   "execution_count": 3,
   "id": "449c198e-454f-4c69-bcad-61bc37e6e133",
   "metadata": {},
   "outputs": [
    {
     "data": {
      "text/plain": [
       "(array([[1, 2, 3],\n",
       "        [2, 3, 4],\n",
       "        [3, 4, 5],\n",
       "        [4, 5, 6],\n",
       "        [5, 6, 7],\n",
       "        [6, 7, 8],\n",
       "        [7, 8, 9]]),\n",
       " array([ 4,  5,  6,  7,  8,  9, 10]))"
      ]
     },
     "execution_count": 3,
     "metadata": {},
     "output_type": "execute_result"
    }
   ],
   "source": [
    "series = np.array([1, 2, 3, 4, 5, 6, 7, 8, 9, 10])\n",
    "# print(np.shape(series))\n",
    "split_sequence(series, 3)"
   ]
  },
  {
   "cell_type": "markdown",
   "id": "120b052a-3091-4aed-a062-7d06795f1466",
   "metadata": {},
   "source": [
    "# Convert Univariate Time Series Sequence to Supervised Machine Learning"
   ]
  },
  {
   "cell_type": "code",
   "execution_count": 4,
   "id": "f8205c00-02a6-4d22-8dc7-6845e6313a30",
   "metadata": {
    "tags": []
   },
   "outputs": [],
   "source": [
    "def convert_uts_sequence_to_sml(uts_observations, n_dimensions):\n",
    "    \"\"\"Splits a given UTS into multiple input rows where each input row has a specified number of timestamps and the output is a single timestamp.\n",
    "    \n",
    "    Parameters:\n",
    "    uts_observations -- 1D np array (of UTS data to transform to SML data with size  b rows/length x 1 dimension)\n",
    "    n_dimensions -- int (of the number of columns to use for SML 1 row x j dimensions)\n",
    "    \n",
    "    Return:\n",
    "    X and y -- 2D np array (of the split sequence with size b rows x j dimensions)\n",
    "    \"\"\"\n",
    "    X = []\n",
    "    y = []\n",
    "    \n",
    "    print(\"Input Univariate Time Series:\")\n",
    "    print(uts_observations, \"\\nX of size\", np.shape(uts_observations))\n",
    "    print()\n",
    "    \n",
    "    for uts_observations_idx in range(len(uts_observations)):\n",
    "        \n",
    "        yth_idx = uts_observations_idx + n_dimensions\n",
    "        # print(yth_idx)\n",
    "        \n",
    "        if yth_idx == len(uts_observations):\n",
    "            break\n",
    "        \n",
    "        # set the size of all X inputs\n",
    "        new_X_inputs = uts_observations[uts_observations_idx : yth_idx]\n",
    "        # print(new_X_inputs)\n",
    "        \n",
    "        X.append(new_X_inputs)\n",
    "        # print(X)\n",
    "        \n",
    "        new_y_true_labels = uts_observations[yth_idx]\n",
    "        # print(new_y_true_labels)\n",
    "        \n",
    "        y.append(new_y_true_labels)\n",
    "        # print(y)\n",
    "        # print()\n",
    "    print(\"Univariate Time Series as Supervised Machine Learning:\")\n",
    "    for i in range(len(X)):\n",
    "        print(X[i], y[i])\n",
    "     \n",
    "    \n",
    "    print(\"X of size\", np.shape(X))\n",
    "    print(\"y of size\", np.shape(y))\n",
    "    \n",
    "    return np.array(X), np.array(y)"
   ]
  },
  {
   "cell_type": "code",
   "execution_count": 5,
   "id": "f5e23dd5-baa6-4f1a-9347-66e54ea6e350",
   "metadata": {},
   "outputs": [
    {
     "name": "stdout",
     "output_type": "stream",
     "text": [
      "Input Univariate Time Series:\n",
      "[ 1  2  3  4  5  6  7  8  9 10] \n",
      "X of size (10,)\n",
      "\n",
      "Univariate Time Series as Supervised Machine Learning:\n",
      "[1 2 3] 4\n",
      "[2 3 4] 5\n",
      "[3 4 5] 6\n",
      "[4 5 6] 7\n",
      "[5 6 7] 8\n",
      "[6 7 8] 9\n",
      "[7 8 9] 10\n",
      "X of size (7, 3)\n",
      "y of size (7,)\n"
     ]
    }
   ],
   "source": [
    "time_series_data = np.array([1, 2, 3, 4, 5, 6, 7, 8, 9, 10])\n",
    "window_size = 3\n",
    "X, y = convert_uts_sequence_to_sml(time_series_data, window_size)"
   ]
  },
  {
   "cell_type": "code",
   "execution_count": 6,
   "id": "664bac27-f173-433e-93bd-146234767907",
   "metadata": {},
   "outputs": [],
   "source": [
    "# X"
   ]
  },
  {
   "cell_type": "code",
   "execution_count": 7,
   "id": "8c028a2f-8f75-4deb-8801-2a13e8a67cc0",
   "metadata": {},
   "outputs": [],
   "source": [
    "# y"
   ]
  },
  {
   "cell_type": "markdown",
   "id": "d14d31f8-5ca9-4918-a7be-b75f0c290087",
   "metadata": {},
   "source": [
    "# Convert Univariate Time Series Sequence to Supervised Machine Learning using Pandas `shift()` Function"
   ]
  },
  {
   "cell_type": "code",
   "execution_count": 24,
   "id": "9fadd854-db8a-47bb-9ee8-edbaba75ee61",
   "metadata": {},
   "outputs": [],
   "source": [
    "def convert_uts_sequence_to_sml_with_shift(data, n_in, n_out=2):\n",
    "    \"\"\"\n",
    "    Parameters:\n",
    "    data -- py list or np array (of the input univariate time series)\n",
    "    n_in -- \n",
    "    n_out -- \n",
    "    \n",
    "    \"\"\"\n",
    "    \n",
    "    df = pd.DataFrame(data)\n",
    "    # print(df)\n",
    "    cols = list()\n",
    "    # print(cols)\n",
    "    \n",
    "    # print(n_in)\n",
    "    for k in range(n_in, 0, -1):\n",
    "        lag = 1 * k\n",
    "        # print(\"df.shift(i) = \", df.shift(lag))\n",
    "        cols.append(df.shift(lag))\n",
    "        \n",
    "    for i in range(0, n_out):\n",
    "        cols.append(df.shift(-i))\n",
    "    \n",
    "    agg = pd.concat(cols, axis=1)\n",
    "    print(agg)\n",
    "    agg.dropna(inplace=True)\n",
    "    # print(agg)\n",
    "    \n",
    "    return agg.values"
   ]
  },
  {
   "cell_type": "code",
   "execution_count": 25,
   "id": "a727e74a-5b27-4b72-a6ec-795ffb99e30e",
   "metadata": {},
   "outputs": [
    {
     "name": "stdout",
     "output_type": "stream",
     "text": [
      "     0    0    0   0     0\n",
      "0  NaN  NaN  NaN   1   2.0\n",
      "1  NaN  NaN  1.0   2   3.0\n",
      "2  NaN  1.0  2.0   3   4.0\n",
      "3  1.0  2.0  3.0   4   5.0\n",
      "4  2.0  3.0  4.0   5   6.0\n",
      "5  3.0  4.0  5.0   6   7.0\n",
      "6  4.0  5.0  6.0   7   8.0\n",
      "7  5.0  6.0  7.0   8   9.0\n",
      "8  6.0  7.0  8.0   9  10.0\n",
      "9  7.0  8.0  9.0  10   NaN\n"
     ]
    },
    {
     "data": {
      "text/plain": [
       "array([[ 1.,  2.,  3.,  4.,  5.],\n",
       "       [ 2.,  3.,  4.,  5.,  6.],\n",
       "       [ 3.,  4.,  5.,  6.,  7.],\n",
       "       [ 4.,  5.,  6.,  7.,  8.],\n",
       "       [ 5.,  6.,  7.,  8.,  9.],\n",
       "       [ 6.,  7.,  8.,  9., 10.]])"
      ]
     },
     "execution_count": 25,
     "metadata": {},
     "output_type": "execute_result"
    }
   ],
   "source": [
    "time_series_data = [1, 2, 3, 4, 5, 6, 7, 8, 9, 10]\n",
    "\n",
    "a = convert_uts_sequence_to_sml_with_shift(time_series_data, window_size)\n",
    "a"
   ]
  },
  {
   "cell_type": "code",
   "execution_count": 10,
   "id": "c11d73b5-467e-43bd-be0f-294e886fa1c1",
   "metadata": {},
   "outputs": [
    {
     "data": {
      "text/plain": [
       "numpy.ndarray"
      ]
     },
     "execution_count": 10,
     "metadata": {},
     "output_type": "execute_result"
    }
   ],
   "source": [
    "type(a)"
   ]
  },
  {
   "cell_type": "code",
   "execution_count": 11,
   "id": "f93429f4-94aa-4995-b70b-474c1bd99b1f",
   "metadata": {},
   "outputs": [],
   "source": [
    "def create_lag_values(data, N):\n",
    "    \"\"\"\n",
    "    Parameters:\n",
    "    df -- pd df (dataset)\n",
    "    N -- int (length of df)\n",
    "    \n",
    "    Return:\n",
    "    lag_values -- list (lags)\n",
    "    lag_col_names -- list (column names with lag, respectively) \n",
    "    \"\"\"\n",
    "    df = pd.DataFrame(data)\n",
    "    lag_values = []\n",
    "    lag_col_names = []\n",
    "    \n",
    "    for k in range(1, N):\n",
    "       \n",
    "        lag = -1 * k\n",
    "        lag_values.append(df.shift(lag))\n",
    "        new_col_name = \"zt @ lag \" + str(k)\n",
    "        lag_col_names.append(new_col_name)\n",
    "        \n",
    "    # df.dropna(inplace=True)\n",
    "    return lag_values, lag_col_names\n"
   ]
  },
  {
   "cell_type": "code",
   "execution_count": 12,
   "id": "6424dbf1-d6a0-4f3d-857b-78333e4f4383",
   "metadata": {},
   "outputs": [
    {
     "data": {
      "text/html": [
       "<div>\n",
       "<style scoped>\n",
       "    .dataframe tbody tr th:only-of-type {\n",
       "        vertical-align: middle;\n",
       "    }\n",
       "\n",
       "    .dataframe tbody tr th {\n",
       "        vertical-align: top;\n",
       "    }\n",
       "\n",
       "    .dataframe thead tr th {\n",
       "        text-align: left;\n",
       "    }\n",
       "</style>\n",
       "<table border=\"1\" class=\"dataframe\">\n",
       "  <thead>\n",
       "    <tr>\n",
       "      <th></th>\n",
       "      <th>zt @ lag 1</th>\n",
       "      <th>zt @ lag 2</th>\n",
       "    </tr>\n",
       "  </thead>\n",
       "  <tbody>\n",
       "    <tr>\n",
       "      <th>0</th>\n",
       "      <td>2.0</td>\n",
       "      <td>3.0</td>\n",
       "    </tr>\n",
       "    <tr>\n",
       "      <th>1</th>\n",
       "      <td>3.0</td>\n",
       "      <td>4.0</td>\n",
       "    </tr>\n",
       "    <tr>\n",
       "      <th>2</th>\n",
       "      <td>4.0</td>\n",
       "      <td>5.0</td>\n",
       "    </tr>\n",
       "    <tr>\n",
       "      <th>3</th>\n",
       "      <td>5.0</td>\n",
       "      <td>6.0</td>\n",
       "    </tr>\n",
       "    <tr>\n",
       "      <th>4</th>\n",
       "      <td>6.0</td>\n",
       "      <td>7.0</td>\n",
       "    </tr>\n",
       "    <tr>\n",
       "      <th>5</th>\n",
       "      <td>7.0</td>\n",
       "      <td>8.0</td>\n",
       "    </tr>\n",
       "    <tr>\n",
       "      <th>6</th>\n",
       "      <td>8.0</td>\n",
       "      <td>9.0</td>\n",
       "    </tr>\n",
       "    <tr>\n",
       "      <th>7</th>\n",
       "      <td>9.0</td>\n",
       "      <td>10.0</td>\n",
       "    </tr>\n",
       "    <tr>\n",
       "      <th>8</th>\n",
       "      <td>10.0</td>\n",
       "      <td>NaN</td>\n",
       "    </tr>\n",
       "    <tr>\n",
       "      <th>9</th>\n",
       "      <td>NaN</td>\n",
       "      <td>NaN</td>\n",
       "    </tr>\n",
       "  </tbody>\n",
       "</table>\n",
       "</div>"
      ],
      "text/plain": [
       "  zt @ lag 1 zt @ lag 2\n",
       "0        2.0        3.0\n",
       "1        3.0        4.0\n",
       "2        4.0        5.0\n",
       "3        5.0        6.0\n",
       "4        6.0        7.0\n",
       "5        7.0        8.0\n",
       "6        8.0        9.0\n",
       "7        9.0       10.0\n",
       "8       10.0        NaN\n",
       "9        NaN        NaN"
      ]
     },
     "execution_count": 12,
     "metadata": {},
     "output_type": "execute_result"
    }
   ],
   "source": [
    "lag_ks, lag_cols = create_lag_values(time_series_data, window_size)\n",
    "lag_ks_df = pd.concat(lag_ks, axis=1)\n",
    "lag_ks_df.columns=[lag_cols]\n",
    "lag_ks_df"
   ]
  },
  {
   "cell_type": "code",
   "execution_count": 118,
   "id": "a0a87f96-b6ec-4907-90a9-3026bd8e33e0",
   "metadata": {},
   "outputs": [],
   "source": [
    "def convert_uts_sequence_to_sml_with_pd(uts_observations, prior_observations, forecasting_step):\n",
    "    \"\"\"Splits a given UTS into multiple input rows where each input row has a specified number of timestamps and the output is a single timestamp.\n",
    "    \n",
    "    Parameters:\n",
    "    uts_observations -- 1D np array (of UTS data to transform to SML data with size  b rows/length x 1 dimension)\n",
    "    prior_observations -- py int (of all observations before we get to where we want to start making the predictions)\n",
    "    forecasting_step -- py int (of how far out to forecast, 1 only the next timestamp, 2 the next two timestamps, ... n the next n timestamps)\n",
    "    \n",
    "    Return:\n",
    "    agg.values -- np array (of new sml data)\n",
    "    \"\"\"\n",
    "    \n",
    "    df = pd.DataFrame(uts_observations)\n",
    "    cols = list()\n",
    "    \n",
    "    lag_col_names = []\n",
    "    count_lag = 0\n",
    "    \n",
    "    print(\"Input Univariate Time Series:\")\n",
    "    print(uts_observations, \"\\nX of size\", np.shape(uts_observations))\n",
    "    print()\n",
    "    \n",
    "    # input sequence (t-n, ... t-1)\n",
    "    for prior_observation in range(prior_observations, 0, -1):\n",
    "        # print(\"prior_observation: \", prior_observation)\n",
    "        cols.append(df.shift(prior_observation))\n",
    "        new_col_name = \"t-\" + str(prior_observation)\n",
    "        # print(new_col_name)\n",
    "        lag_col_names.append(new_col_name)\n",
    "        \n",
    "    \n",
    "    # forecast sequence (t, t+1, ... t+n)\n",
    "    for i in range(0, forecasting_step):\n",
    "        cols.append(df.shift(-i))\n",
    "        \n",
    "        new_col_name = \"t\" \n",
    "        if forecasting_step == 1:\n",
    "            # print(new_col_name)\n",
    "            lag_col_names.append(new_col_name)\n",
    "        \n",
    "        else:\n",
    "            if i == 0:\n",
    "                lag_col_names.append(new_col_name)\n",
    "            else:\n",
    "                new_col_name = \"t+\" + str(i)\n",
    "                # print(new_col_name)\n",
    "                lag_col_names.append(new_col_name)\n",
    "        \n",
    "        # put it all together\n",
    "        uts_sml_df = pd.concat(cols, axis=1) \n",
    "        uts_sml_df.columns=[lag_col_names]\n",
    "        # drop rows with NaN values\n",
    "        uts_sml_df.dropna(inplace=True)\n",
    "    \n",
    "    # print(uts_sml_df)\n",
    "    print(\"Univariate Time Series as Supervised Machine Learning:\")\n",
    "    # colums to use to make prediction for last col\n",
    "    \n",
    "    X_train = uts_sml_df.iloc[:, :prior_observations]\n",
    "    print(\"X_train: \\n\", X_train)\n",
    "    \n",
    "    # last column\n",
    "    y_train = uts_sml_df.iloc[:, -forecasting_step:]\n",
    "    print(\"y_train: \\n\", y_train)\n",
    "    return X_train, y_train, uts_sml_df"
   ]
  },
  {
   "cell_type": "code",
   "execution_count": 121,
   "id": "1ff3d0e9-ceb9-49ad-bb3a-2adbd3adecca",
   "metadata": {},
   "outputs": [
    {
     "name": "stdout",
     "output_type": "stream",
     "text": [
      "Input Univariate Time Series:\n",
      "[10, 20, 30, 40, 50, 60, 70, 80, 90] \n",
      "X of size (9,)\n",
      "\n",
      "Univariate Time Series as Supervised Machine Learning:\n",
      "X_train: \n",
      "     t-3   t-2   t-1\n",
      "3  10.0  20.0  30.0\n",
      "4  20.0  30.0  40.0\n",
      "5  30.0  40.0  50.0\n",
      "6  40.0  50.0  60.0\n",
      "7  50.0  60.0  70.0\n",
      "y_train: \n",
      "     t   t+1\n",
      "3  40  50.0\n",
      "4  50  60.0\n",
      "5  60  70.0\n",
      "6  70  80.0\n",
      "7  80  90.0\n"
     ]
    }
   ],
   "source": [
    "train_data = [10, 20, 30, 40, 50, 60, 70, 80, 90]\n",
    "prior_observations, forecasting_step = [3, 2]\n",
    "X_train_df, y_train_df, X_y_df = convert_uts_sequence_to_sml_with_pd(train_data, prior_observations, forecasting_step) "
   ]
  },
  {
   "cell_type": "code",
   "execution_count": null,
   "id": "4ed8fa32-4826-429b-bf4d-b981faf3ded8",
   "metadata": {},
   "outputs": [],
   "source": []
  },
  {
   "cell_type": "code",
   "execution_count": null,
   "id": "f42c9e2a-3fcd-420c-8467-7f5dc5e9dacf",
   "metadata": {},
   "outputs": [],
   "source": []
  }
 ],
 "metadata": {
  "kernelspec": {
   "display_name": "Python 3 (ipykernel)",
   "language": "python",
   "name": "python3"
  },
  "language_info": {
   "codemirror_mode": {
    "name": "ipython",
    "version": 3
   },
   "file_extension": ".py",
   "mimetype": "text/x-python",
   "name": "python",
   "nbconvert_exporter": "python",
   "pygments_lexer": "ipython3",
   "version": "3.9.16"
  }
 },
 "nbformat": 4,
 "nbformat_minor": 5
}
