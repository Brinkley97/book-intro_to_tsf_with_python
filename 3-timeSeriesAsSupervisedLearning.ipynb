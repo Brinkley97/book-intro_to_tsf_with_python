{
 "cells": [
  {
   "cell_type": "markdown",
   "id": "04194835-849f-452f-98f6-a49219d92a83",
   "metadata": {
    "tags": []
   },
   "source": [
    "# 3 Time Series as Supervised Learning\n",
    "- [Notes via Notion](https://detraviousjbrinkley.notion.site/Introduction-to-Time-Series-Forecasting-with-Python-by-Jason-Brownlee-ba37f3ef52784171ab51f1c0d9ab68c5)"
   ]
  },
  {
   "cell_type": "markdown",
   "id": "3a021a41-6b11-4192-a0f0-693867df1cb6",
   "metadata": {},
   "source": [
    "## Imports and Load Data"
   ]
  },
  {
   "cell_type": "code",
   "execution_count": 1,
   "id": "e3eb0af5-710b-44e2-bb22-c94c0fafc35d",
   "metadata": {},
   "outputs": [],
   "source": [
    "import numpy as np"
   ]
  },
  {
   "cell_type": "markdown",
   "id": "38100fdf-0e19-4e6c-a04a-3e983aa77468",
   "metadata": {
    "tags": []
   },
   "source": [
    "## Examples - Uni and Multi Variate to Supervised Learning"
   ]
  },
  {
   "cell_type": "markdown",
   "id": "cd205e2c-e478-4812-8ca5-4b041b5864c7",
   "metadata": {},
   "source": [
    "A contrived regression problem example of a supervised learning dataset where each **row is an observation** comprised of one `input variable (X)` and one `output variable` to be predicted `(y)`."
   ]
  },
  {
   "cell_type": "markdown",
   "id": "0ad02421-a69e-4777-861c-df97a495fc3a",
   "metadata": {
    "tags": []
   },
   "source": [
    "## Transform Time Series Problem to Supervised Learning Problem (My Solution)\n",
    "- Function: `split_sequence()` splits a given univariate sequence into multiple samples where each sample has a specified number of time steps and the output is a single time step.\n",
    "- Parameters:\n",
    "    - `ts_data`: time series data to transform to supervised learning data\n",
    "    - `input_X_size`: size of each `X` for supervised learning\n",
    "- Input: [1, 2, 3, 4, 5, 6, 7, 8, 9, 10] 10 x 1\n",
    "- Output: X_1 = [1, 2, 3] Y_1 = [4]\n",
    "X_2 = [2, 3, 4] Y_2 = [5]\n",
    "X_3 = [3, 4, 5] Y_2 = [6]\n",
    "... \n",
    "- Size: X 7 x 3 and y 7 x 1\n",
    "- Feature (of output): A column in a dataset, such as a lag observation for a time series dataset. 3 features\n",
    "- Sample (of output): A row in a dataset, such as an input and output sequence for a time series dataset. 7 samples\n",
    "- Data in this form can be used directly to train a simple neural network, such as a Multilayer Perceptron"
   ]
  },
  {
   "cell_type": "code",
   "execution_count": 44,
   "id": "f8205c00-02a6-4d22-8dc7-6845e6313a30",
   "metadata": {},
   "outputs": [],
   "source": [
    "def split_sequence(ts_data, input_X_size):\n",
    "    \"\"\"\n",
    "    ts_data -- 1D np array\n",
    "    input_X_size -- int\n",
    "    \n",
    "    return -- 2D np array, 1D np array\n",
    "    \"\"\"\n",
    "    X = []\n",
    "    y = []\n",
    "    \n",
    "    for i in range(len(ts_data)):\n",
    "        \n",
    "        last_idx = i + input_X_size\n",
    "        # print(ts_data[i], last_idx)\n",
    "        \n",
    "        if last_idx == len(ts_data):\n",
    "            break\n",
    "        \n",
    "        # set the size of all X inputs\n",
    "        get_X = ts_data[i : last_idx]\n",
    "        # print(get_X)\n",
    "        \n",
    "        X.append(get_X)\n",
    "        # print(X)\n",
    "        \n",
    "        get_y = ts_data[last_idx]\n",
    "        # print(get_y)\n",
    "        \n",
    "        y.append(get_y)\n",
    "        # print(y)\n",
    "        # print()\n",
    "    for i in range(len(X)): \n",
    "        print(i, X[i], y[i])\n",
    "    return X, y"
   ]
  },
  {
   "cell_type": "code",
   "execution_count": 45,
   "id": "f5e23dd5-baa6-4f1a-9347-66e54ea6e350",
   "metadata": {},
   "outputs": [
    {
     "name": "stdout",
     "output_type": "stream",
     "text": [
      "0 [1 2 3] 4\n",
      "1 [2 3 4] 5\n",
      "2 [3 4 5] 6\n",
      "3 [4 5 6] 7\n",
      "4 [5 6 7] 8\n",
      "5 [6 7 8] 9\n",
      "6 [7 8 9] 10\n"
     ]
    },
    {
     "data": {
      "text/plain": [
       "([array([1, 2, 3]),\n",
       "  array([2, 3, 4]),\n",
       "  array([3, 4, 5]),\n",
       "  array([4, 5, 6]),\n",
       "  array([5, 6, 7]),\n",
       "  array([6, 7, 8]),\n",
       "  array([7, 8, 9])],\n",
       " [4, 5, 6, 7, 8, 9, 10])"
      ]
     },
     "execution_count": 45,
     "metadata": {},
     "output_type": "execute_result"
    }
   ],
   "source": [
    "time_series_data = np.array([1, 2, 3, 4, 5, 6, 7, 8, 9, 10])\n",
    "split_sequence(time_series_data, 3)"
   ]
  },
  {
   "cell_type": "code",
   "execution_count": null,
   "id": "065fb4f3-286f-49f3-8083-33b6d0c877e5",
   "metadata": {},
   "outputs": [],
   "source": []
  },
  {
   "cell_type": "markdown",
   "id": "cadf157d-fbce-46ac-95cf-c9b8eb491cd6",
   "metadata": {
    "tags": []
   },
   "source": [
    "## Transform Time Series Problem to Supervised Learning Problem (Correct Solution)"
   ]
  },
  {
   "cell_type": "code",
   "execution_count": 55,
   "id": "6e73cfff-3859-4801-8e88-f54c44326633",
   "metadata": {},
   "outputs": [],
   "source": [
    "def split_sequence(sequence, n_steps):\n",
    "    X, y = list(), list()\n",
    "    for i in range(len(sequence)):\n",
    "        \n",
    "        # find the end of this pattern\n",
    "        end_ix = i + n_steps\n",
    "        \n",
    "        # check if we are beyond the sequence \n",
    "        if end_ix > len(sequence) - 1 : \n",
    "            break\n",
    "        # gather input and output parts of the pattern \n",
    "        seq_x, seq_y = sequence[i:end_ix], sequence[end_ix] \n",
    "        X.append(seq_x)\n",
    "        y.append(seq_y)\n",
    "    \n",
    "    for i in range(len(X)): \n",
    "        print(X[i], y[i])\n",
    "    \n",
    "    print(np.shape(X), np.shape(y))\n",
    "    \n",
    "    return np.array(X), np.array(y)"
   ]
  },
  {
   "cell_type": "code",
   "execution_count": 56,
   "id": "449c198e-454f-4c69-bcad-61bc37e6e133",
   "metadata": {},
   "outputs": [
    {
     "name": "stdout",
     "output_type": "stream",
     "text": [
      "(10,)\n",
      "[1 2 3] 4\n",
      "[2 3 4] 5\n",
      "[3 4 5] 6\n",
      "[4 5 6] 7\n",
      "[5 6 7] 8\n",
      "[6 7 8] 9\n",
      "[7 8 9] 10\n",
      "(7, 3) (7,)\n"
     ]
    },
    {
     "data": {
      "text/plain": [
       "(array([[1, 2, 3],\n",
       "        [2, 3, 4],\n",
       "        [3, 4, 5],\n",
       "        [4, 5, 6],\n",
       "        [5, 6, 7],\n",
       "        [6, 7, 8],\n",
       "        [7, 8, 9]]),\n",
       " array([ 4,  5,  6,  7,  8,  9, 10]))"
      ]
     },
     "execution_count": 56,
     "metadata": {},
     "output_type": "execute_result"
    }
   ],
   "source": [
    "series = np.array([1, 2, 3, 4, 5, 6, 7, 8, 9, 10])\n",
    "print(np.shape(series))\n",
    "split_sequence(series, 3)"
   ]
  },
  {
   "cell_type": "code",
   "execution_count": 34,
   "id": "00234a10-a46b-4493-ac19-245cb561cb75",
   "metadata": {},
   "outputs": [
    {
     "ename": "NameError",
     "evalue": "name 'X' is not defined",
     "output_type": "error",
     "traceback": [
      "\u001b[0;31m---------------------------------------------------------------------------\u001b[0m",
      "\u001b[0;31mNameError\u001b[0m                                 Traceback (most recent call last)",
      "Input \u001b[0;32mIn [34]\u001b[0m, in \u001b[0;36m<cell line: 1>\u001b[0;34m()\u001b[0m\n\u001b[0;32m----> 1\u001b[0m \u001b[38;5;28;01mfor\u001b[39;00m i \u001b[38;5;129;01min\u001b[39;00m \u001b[38;5;28mrange\u001b[39m(\u001b[38;5;28mlen\u001b[39m(\u001b[43mX\u001b[49m)): \n\u001b[1;32m      2\u001b[0m     \u001b[38;5;28mprint\u001b[39m(X[i], y[i])\n",
      "\u001b[0;31mNameError\u001b[0m: name 'X' is not defined"
     ]
    }
   ],
   "source": []
  },
  {
   "cell_type": "code",
   "execution_count": null,
   "id": "9991e246-05c2-42ad-934e-7d4b1763a1af",
   "metadata": {},
   "outputs": [],
   "source": []
  }
 ],
 "metadata": {
  "kernelspec": {
   "display_name": "Python 3 (ipykernel)",
   "language": "python",
   "name": "python3"
  },
  "language_info": {
   "codemirror_mode": {
    "name": "ipython",
    "version": 3
   },
   "file_extension": ".py",
   "mimetype": "text/x-python",
   "name": "python",
   "nbconvert_exporter": "python",
   "pygments_lexer": "ipython3",
   "version": "3.9.7"
  }
 },
 "nbformat": 4,
 "nbformat_minor": 5
}
