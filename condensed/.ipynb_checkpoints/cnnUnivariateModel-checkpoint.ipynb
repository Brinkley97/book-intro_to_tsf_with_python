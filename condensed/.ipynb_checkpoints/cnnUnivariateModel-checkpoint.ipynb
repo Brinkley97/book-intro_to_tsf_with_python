{
 "cells": [
  {
   "cell_type": "markdown",
   "id": "b081fda8-6ea3-4792-b53d-ac411aafbbb6",
   "metadata": {},
   "source": [
    "# Univariate CNN Models"
   ]
  },
  {
   "cell_type": "markdown",
   "id": "02de425e-31a4-4f3a-940e-1276d1bd43ef",
   "metadata": {},
   "source": [
    "# Imports + Load Data"
   ]
  },
  {
   "cell_type": "code",
   "execution_count": 1,
   "id": "9eddd50c-6c17-44b6-a069-2b66a2b54336",
   "metadata": {},
   "outputs": [
    {
     "name": "stderr",
     "output_type": "stream",
     "text": [
      "2023-07-01 11:11:17.455414: I tensorflow/core/platform/cpu_feature_guard.cc:193] This TensorFlow binary is optimized with oneAPI Deep Neural Network Library (oneDNN) to use the following CPU instructions in performance-critical operations:  SSE4.1 SSE4.2 AVX AVX2 FMA\n",
      "To enable them in other operations, rebuild TensorFlow with the appropriate compiler flags.\n"
     ]
    }
   ],
   "source": [
    "import math\n",
    "\n",
    "import numpy as np\n",
    "import pandas as pd\n",
    "\n",
    "from keras.layers import Dense\n",
    "from keras.layers import Flatten\n",
    "from keras.models import Sequential\n",
    "from keras.layers.convolutional import Conv1D \n",
    "from sklearn.metrics import mean_squared_error\n",
    "from keras.layers.convolutional import MaxPooling1D"
   ]
  },
  {
   "cell_type": "code",
   "execution_count": 2,
   "id": "bf879e95-d122-4efd-8849-7439da284bce",
   "metadata": {},
   "outputs": [],
   "source": [
    "PATH_TO_DATASETS = '../datasets/'\n",
    "X_voo_dataset = PATH_TO_DATASETS + 'X-voo.csv'\n",
    "y_voo_dataset = PATH_TO_DATASETS + 'y-voo.csv'"
   ]
  },
  {
   "cell_type": "code",
   "execution_count": 3,
   "id": "2bf53993-0c0d-4e9f-a387-934ebb02205c",
   "metadata": {},
   "outputs": [],
   "source": [
    "X = pd.read_csv(X_voo_dataset)\n",
    "y = pd.read_csv(y_voo_dataset)"
   ]
  },
  {
   "cell_type": "code",
   "execution_count": 4,
   "id": "22ccbf6d-477a-4fd6-a37a-f71a9bef72de",
   "metadata": {},
   "outputs": [],
   "source": [
    "X = X.loc[0:, ['t-3', 't-2', 't-1']]"
   ]
  },
  {
   "cell_type": "code",
   "execution_count": 5,
   "id": "c225737d-f22a-4939-af08-5fdb37a8eb30",
   "metadata": {},
   "outputs": [
    {
     "data": {
      "text/html": [
       "<div>\n",
       "<style scoped>\n",
       "    .dataframe tbody tr th:only-of-type {\n",
       "        vertical-align: middle;\n",
       "    }\n",
       "\n",
       "    .dataframe tbody tr th {\n",
       "        vertical-align: top;\n",
       "    }\n",
       "\n",
       "    .dataframe thead th {\n",
       "        text-align: right;\n",
       "    }\n",
       "</style>\n",
       "<table border=\"1\" class=\"dataframe\">\n",
       "  <thead>\n",
       "    <tr style=\"text-align: right;\">\n",
       "      <th></th>\n",
       "      <th>t-3</th>\n",
       "      <th>t-2</th>\n",
       "      <th>t-1</th>\n",
       "    </tr>\n",
       "  </thead>\n",
       "  <tbody>\n",
       "    <tr>\n",
       "      <th>0</th>\n",
       "      <td>437.929993</td>\n",
       "      <td>440.579987</td>\n",
       "      <td>438.779999</td>\n",
       "    </tr>\n",
       "    <tr>\n",
       "      <th>1</th>\n",
       "      <td>440.579987</td>\n",
       "      <td>438.779999</td>\n",
       "      <td>430.200012</td>\n",
       "    </tr>\n",
       "    <tr>\n",
       "      <th>2</th>\n",
       "      <td>438.779999</td>\n",
       "      <td>430.200012</td>\n",
       "      <td>430.209991</td>\n",
       "    </tr>\n",
       "    <tr>\n",
       "      <th>3</th>\n",
       "      <td>430.200012</td>\n",
       "      <td>430.209991</td>\n",
       "      <td>425.380005</td>\n",
       "    </tr>\n",
       "    <tr>\n",
       "      <th>4</th>\n",
       "      <td>430.209991</td>\n",
       "      <td>425.380005</td>\n",
       "      <td>427.679993</td>\n",
       "    </tr>\n",
       "    <tr>\n",
       "      <th>...</th>\n",
       "      <td>...</td>\n",
       "      <td>...</td>\n",
       "      <td>...</td>\n",
       "    </tr>\n",
       "    <tr>\n",
       "      <th>361</th>\n",
       "      <td>395.980011</td>\n",
       "      <td>400.019989</td>\n",
       "      <td>401.609985</td>\n",
       "    </tr>\n",
       "    <tr>\n",
       "      <th>362</th>\n",
       "      <td>400.019989</td>\n",
       "      <td>401.609985</td>\n",
       "      <td>401.000000</td>\n",
       "    </tr>\n",
       "    <tr>\n",
       "      <th>363</th>\n",
       "      <td>401.609985</td>\n",
       "      <td>401.000000</td>\n",
       "      <td>408.690002</td>\n",
       "    </tr>\n",
       "    <tr>\n",
       "      <th>364</th>\n",
       "      <td>401.000000</td>\n",
       "      <td>408.690002</td>\n",
       "      <td>403.489990</td>\n",
       "    </tr>\n",
       "    <tr>\n",
       "      <th>365</th>\n",
       "      <td>408.690002</td>\n",
       "      <td>403.489990</td>\n",
       "      <td>402.309998</td>\n",
       "    </tr>\n",
       "  </tbody>\n",
       "</table>\n",
       "<p>366 rows × 3 columns</p>\n",
       "</div>"
      ],
      "text/plain": [
       "            t-3         t-2         t-1\n",
       "0    437.929993  440.579987  438.779999\n",
       "1    440.579987  438.779999  430.200012\n",
       "2    438.779999  430.200012  430.209991\n",
       "3    430.200012  430.209991  425.380005\n",
       "4    430.209991  425.380005  427.679993\n",
       "..          ...         ...         ...\n",
       "361  395.980011  400.019989  401.609985\n",
       "362  400.019989  401.609985  401.000000\n",
       "363  401.609985  401.000000  408.690002\n",
       "364  401.000000  408.690002  403.489990\n",
       "365  408.690002  403.489990  402.309998\n",
       "\n",
       "[366 rows x 3 columns]"
      ]
     },
     "execution_count": 5,
     "metadata": {},
     "output_type": "execute_result"
    }
   ],
   "source": [
    "X"
   ]
  },
  {
   "cell_type": "code",
   "execution_count": 6,
   "id": "dfc64a15-5d5a-446a-8c07-a06a30ad4310",
   "metadata": {},
   "outputs": [],
   "source": [
    "y = y.loc[0:, 't']"
   ]
  },
  {
   "cell_type": "code",
   "execution_count": 7,
   "id": "ad635fb6-d10a-4140-ba2b-80cc5ee8c77d",
   "metadata": {},
   "outputs": [
    {
     "data": {
      "text/plain": [
       "0      430.200012\n",
       "1      430.209991\n",
       "2      425.380005\n",
       "3      427.679993\n",
       "4      433.559998\n",
       "          ...    \n",
       "361    401.000000\n",
       "362    408.690002\n",
       "363    403.489990\n",
       "364    402.309998\n",
       "365    400.279999\n",
       "Name: t, Length: 366, dtype: float64"
      ]
     },
     "execution_count": 7,
     "metadata": {},
     "output_type": "execute_result"
    }
   ],
   "source": [
    "y"
   ]
  },
  {
   "cell_type": "code",
   "execution_count": 8,
   "id": "c6722cb8-7597-4b88-a9b3-5f1fc3b72270",
   "metadata": {},
   "outputs": [],
   "source": [
    "prior_observations, forecasting_step = [3, 1]"
   ]
  },
  {
   "cell_type": "markdown",
   "id": "857c75e7-0913-4f64-9020-1f81f3dbc775",
   "metadata": {},
   "source": [
    "# Create Keras model, fit, and predict"
   ]
  },
  {
   "cell_type": "code",
   "execution_count": 9,
   "id": "0a0fdc01-eb06-4ad1-a999-cdd5ff163732",
   "metadata": {},
   "outputs": [],
   "source": [
    "def univariate_cnn_model(prior_observations, forecasting_step, n_features=1):\n",
    "    \"\"\"\n",
    "    \"\"\"\n",
    "    \n",
    "    model = Sequential()\n",
    "\n",
    "    conv1d_layer = Conv1D(filters=2, kernel_size=2, activation='relu', input_shape=(prior_observations, n_features), name=\"conv1d_layer\")\n",
    "    model.add(conv1d_layer)\n",
    "    input_weights_hidden = conv1d_layer.get_weights()\n",
    "\n",
    "    max_pooling_layer = MaxPooling1D(pool_size=2, strides=1, name=\"max_pooling_layer\")\n",
    "    model.add(max_pooling_layer)\n",
    "\n",
    "    flatten_layer = Flatten(name=\"flatten_layer\")\n",
    "    model.add(flatten_layer)\n",
    "\n",
    "    hidden_layer = Dense(5, activation='relu', name=\"hidden_layer\")\n",
    "    model.add(hidden_layer)\n",
    "\n",
    "    output_layer = Dense(forecasting_step, name=\"output_layer\")\n",
    "    model.add(output_layer)\n",
    "\n",
    "    model.compile(optimizer='adam', loss='mse')\n",
    "    return model, model.summary()"
   ]
  },
  {
   "cell_type": "code",
   "execution_count": 10,
   "id": "897c0d10-af4d-4736-a798-3e8a06dd1592",
   "metadata": {},
   "outputs": [],
   "source": [
    "ytrue = [100]"
   ]
  },
  {
   "cell_type": "code",
   "execution_count": 11,
   "id": "3a46aaf1-8b88-4b77-a0e0-ef9add8043c0",
   "metadata": {},
   "outputs": [
    {
     "name": "stdout",
     "output_type": "stream",
     "text": [
      "Model: \"sequential\"\n",
      "_________________________________________________________________\n",
      " Layer (type)                Output Shape              Param #   \n",
      "=================================================================\n",
      " conv1d_layer (Conv1D)       (None, 2, 2)              6         \n",
      "                                                                 \n",
      " max_pooling_layer (MaxPooli  (None, 1, 2)             0         \n",
      " ng1D)                                                           \n",
      "                                                                 \n",
      " flatten_layer (Flatten)     (None, 2)                 0         \n",
      "                                                                 \n",
      " hidden_layer (Dense)        (None, 5)                 15        \n",
      "                                                                 \n",
      " output_layer (Dense)        (None, 1)                 6         \n",
      "                                                                 \n",
      "=================================================================\n",
      "Total params: 27\n",
      "Trainable params: 27\n",
      "Non-trainable params: 0\n",
      "_________________________________________________________________\n"
     ]
    },
    {
     "name": "stderr",
     "output_type": "stream",
     "text": [
      "2023-07-01 11:11:20.166892: I tensorflow/core/platform/cpu_feature_guard.cc:193] This TensorFlow binary is optimized with oneAPI Deep Neural Network Library (oneDNN) to use the following CPU instructions in performance-critical operations:  SSE4.1 SSE4.2 AVX AVX2 FMA\n",
      "To enable them in other operations, rebuild TensorFlow with the appropriate compiler flags.\n"
     ]
    }
   ],
   "source": [
    "cnn_model, model_defined = univariate_cnn_model(prior_observations, forecasting_step)"
   ]
  },
  {
   "cell_type": "code",
   "execution_count": 12,
   "id": "3b82b994-0020-47e1-9c77-53dab06b2aab",
   "metadata": {},
   "outputs": [],
   "source": [
    "def fit_model(model_to_fit, X_train, y_train):\n",
    "    model_to_fit.fit(X_train, y_train, epochs=2000, verbose=0)\n",
    "\n",
    "    return model_to_fit"
   ]
  },
  {
   "cell_type": "code",
   "execution_count": 13,
   "id": "6e182d18-d7f1-40cd-b217-c223ceab63da",
   "metadata": {},
   "outputs": [],
   "source": [
    "cnn_model_fitted = fit_model(cnn_model, X, y)"
   ]
  },
  {
   "cell_type": "code",
   "execution_count": 14,
   "id": "dbdc566d-0dae-4474-9526-7057c193c310",
   "metadata": {},
   "outputs": [
    {
     "data": {
      "text/plain": [
       "t-3    408.690002\n",
       "t-2    403.489990\n",
       "t-1    402.309998\n",
       "Name: 365, dtype: float64"
      ]
     },
     "execution_count": 14,
     "metadata": {},
     "output_type": "execute_result"
    }
   ],
   "source": [
    "x_input = X.iloc[-1, -prior_observations:]\n",
    "x_input"
   ]
  },
  {
   "cell_type": "code",
   "execution_count": 15,
   "id": "31798f0b-dd4f-44e6-95db-8333520b4cbb",
   "metadata": {},
   "outputs": [],
   "source": [
    "def predict(fitted_model, x_input, prior_observations):\n",
    "        \"\"\"\n",
    "        Parameters:\n",
    "        fitted_model -- keras model\n",
    "        x_input -- pd series\n",
    "        prior_observations -- int\n",
    "        \n",
    "        Returns\n",
    "        -- int (of the prediction at the next time step(s))\n",
    "        \"\"\"\n",
    "        x_input = x_input.values\n",
    "        x_input = x_input.reshape((1, prior_observations))\n",
    "        yhat = fitted_model.predict(x_input)\n",
    "        \n",
    "        return yhat"
   ]
  },
  {
   "cell_type": "code",
   "execution_count": 16,
   "id": "fa0238b4-6779-4839-b29b-e7770701daca",
   "metadata": {},
   "outputs": [
    {
     "name": "stdout",
     "output_type": "stream",
     "text": [
      "1/1 [==============================] - 0s 66ms/step\n"
     ]
    }
   ],
   "source": [
    "cnn_model_prediction = predict(cnn_model_fitted, x_input, prior_observations)"
   ]
  },
  {
   "cell_type": "code",
   "execution_count": 17,
   "id": "1e3e0786-8a83-4fda-a11f-f60ac1447618",
   "metadata": {},
   "outputs": [
    {
     "data": {
      "text/plain": [
       "array([[23.937838]], dtype=float32)"
      ]
     },
     "execution_count": 17,
     "metadata": {},
     "output_type": "execute_result"
    }
   ],
   "source": [
    "cnn_model_prediction"
   ]
  },
  {
   "cell_type": "code",
   "execution_count": null,
   "id": "c84d3f33-1c85-4d23-93d6-05228855bf04",
   "metadata": {},
   "outputs": [],
   "source": []
  }
 ],
 "metadata": {
  "kernelspec": {
   "display_name": "Python 3 (ipykernel)",
   "language": "python",
   "name": "python3"
  },
  "language_info": {
   "codemirror_mode": {
    "name": "ipython",
    "version": 3
   },
   "file_extension": ".py",
   "mimetype": "text/x-python",
   "name": "python",
   "nbconvert_exporter": "python",
   "pygments_lexer": "ipython3",
   "version": "3.9.16"
  }
 },
 "nbformat": 4,
 "nbformat_minor": 5
}
