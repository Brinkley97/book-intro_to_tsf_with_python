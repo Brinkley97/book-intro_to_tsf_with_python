{
 "cells": [
  {
   "cell_type": "markdown",
   "id": "e901c24c-cda8-489a-9567-0edd67898258",
   "metadata": {},
   "source": [
    "# Simple Autoregression Model\n",
    "\n",
    "- An autoregression model is a linear regression model that uses lagged variables as input variables.\n",
    "- [Autoregression Model for TSF](https://machinelearningmastery.com/autoregression-models-time-series-forecasting-python/)"
   ]
  },
  {
   "cell_type": "markdown",
   "id": "caa56dc2-ae91-48be-9cd9-013afb2fe1fd",
   "metadata": {},
   "source": [
    "# Imports"
   ]
  },
  {
   "cell_type": "code",
   "execution_count": 1,
   "id": "1e8e8ae4-fd03-42e9-81e9-624f73dd6d9b",
   "metadata": {},
   "outputs": [],
   "source": [
    "import pandas as pd\n",
    "\n",
    "from math import sqrt\n",
    "from matplotlib import pyplot\n",
    "\n",
    "from statsmodels.tsa.ar_model import AutoReg\n",
    "from statsmodels.tsa.tsatools import add_lag\n",
    "from sklearn.metrics import max_error, mean_absolute_error, mean_squared_error, mean_absolute_percentage_error"
   ]
  },
  {
   "cell_type": "code",
   "execution_count": 2,
   "id": "3446b44b-2f3b-4ebb-ba10-85798aa9edbf",
   "metadata": {},
   "outputs": [
    {
     "data": {
      "text/plain": [
       "(pandas.core.frame.DataFrame,\n",
       "             Temp\n",
       " Date            \n",
       " 1981-01-01  20.7\n",
       " 1981-01-02  17.9\n",
       " 1981-01-03  18.8\n",
       " 1981-01-04  14.6\n",
       " 1981-01-05  15.8\n",
       " ...          ...\n",
       " 1990-12-27  14.0\n",
       " 1990-12-28  13.6\n",
       " 1990-12-29  13.5\n",
       " 1990-12-30  15.7\n",
       " 1990-12-31  13.0\n",
       " \n",
       " [3650 rows x 1 columns])"
      ]
     },
     "execution_count": 2,
     "metadata": {},
     "output_type": "execute_result"
    }
   ],
   "source": [
    "daily_min_temp_df = pd.read_csv('datasets/daily-min-temperatures.csv', header=0, index_col=0, parse_dates=True)\n",
    "type(daily_min_temp_df), daily_min_temp_df"
   ]
  },
  {
   "cell_type": "code",
   "execution_count": 3,
   "id": "5148c7ed-0eb2-4f35-a5a2-ceef11925f97",
   "metadata": {},
   "outputs": [
    {
     "data": {
      "text/plain": [
       "array([[20.7],\n",
       "       [17.9],\n",
       "       [18.8],\n",
       "       ...,\n",
       "       [13.5],\n",
       "       [15.7],\n",
       "       [13. ]])"
      ]
     },
     "execution_count": 3,
     "metadata": {},
     "output_type": "execute_result"
    }
   ],
   "source": [
    "X = daily_min_temp_df.values\n",
    "X"
   ]
  },
  {
   "cell_type": "code",
   "execution_count": 26,
   "id": "ca9236c8-0f72-43f4-b22c-f659fbcab357",
   "metadata": {},
   "outputs": [
    {
     "name": "stdout",
     "output_type": "stream",
     "text": [
      "3642\n",
      "7\n"
     ]
    },
    {
     "data": {
      "text/plain": [
       "(None,\n",
       " array([[12.9],\n",
       "        [14.6],\n",
       "        [14. ],\n",
       "        [13.6],\n",
       "        [13.5],\n",
       "        [15.7],\n",
       "        [13. ]]))"
      ]
     },
     "execution_count": 26,
     "metadata": {},
     "output_type": "execute_result"
    }
   ],
   "source": [
    "train = X[1 : len(X) - 7]\n",
    "print(len(train)), (train)\n",
    "test = X[len(X) - 7 : ]\n",
    "print(len(test)), (test)"
   ]
  },
  {
   "cell_type": "code",
   "execution_count": 5,
   "id": "b8ad422b-9489-463e-9cb5-b653261e2e54",
   "metadata": {},
   "outputs": [
    {
     "data": {
      "text/plain": [
       "(7,\n",
       " array([[12.9],\n",
       "        [14.6],\n",
       "        [14. ],\n",
       "        [13.6],\n",
       "        [13.5],\n",
       "        [15.7],\n",
       "        [13. ]]))"
      ]
     },
     "execution_count": 5,
     "metadata": {},
     "output_type": "execute_result"
    }
   ],
   "source": [
    "test = X[len(X) - 7 : ]\n",
    "len(test), test"
   ]
  },
  {
   "cell_type": "code",
   "execution_count": 6,
   "id": "0d0d3bb9-2f94-425c-9b0b-e76eec0cbe8d",
   "metadata": {},
   "outputs": [
    {
     "data": {
      "text/plain": [
       "array([[18.8, 17.9],\n",
       "       [14.6, 18.8],\n",
       "       [15.8, 14.6],\n",
       "       ...,\n",
       "       [13.2, 13.1],\n",
       "       [13.9, 13.2],\n",
       "       [10. , 13.9]])"
      ]
     },
     "execution_count": 6,
     "metadata": {},
     "output_type": "execute_result"
    }
   ],
   "source": [
    "train_lag = add_lag(train)\n",
    "train_lag"
   ]
  },
  {
   "cell_type": "code",
   "execution_count": 7,
   "id": "c89b6038-a1f9-4a48-81a8-be5f6efbaa13",
   "metadata": {},
   "outputs": [
    {
     "data": {
      "text/plain": [
       "<statsmodels.tsa.ar_model.AutoReg at 0x13d6d3a30>"
      ]
     },
     "execution_count": 7,
     "metadata": {},
     "output_type": "execute_result"
    }
   ],
   "source": [
    "model = AutoReg(train, lags=29)\n",
    "model"
   ]
  },
  {
   "cell_type": "code",
   "execution_count": 8,
   "id": "f197c67b-a875-4b7c-b80f-b3d880df2525",
   "metadata": {},
   "outputs": [],
   "source": [
    "model_fit = model.fit()"
   ]
  },
  {
   "cell_type": "code",
   "execution_count": 9,
   "id": "6e1090d0-eee5-4729-97be-5af5be945e76",
   "metadata": {},
   "outputs": [],
   "source": [
    "# model_fit.ar_lags()"
   ]
  },
  {
   "cell_type": "code",
   "execution_count": 10,
   "id": "5621089b-9c36-4137-8807-baccb725ee45",
   "metadata": {},
   "outputs": [
    {
     "name": "stdout",
     "output_type": "stream",
     "text": [
      "Coefficients: [ 5.57543506e-01  5.88595221e-01 -9.08257090e-02  4.82615092e-02\n",
      "  4.00650265e-02  3.93020055e-02  2.59463738e-02  4.46675960e-02\n",
      "  1.27681498e-02  3.74362239e-02 -8.11700276e-04  4.79081949e-03\n",
      "  1.84731397e-02  2.68908418e-02  5.75906178e-04  2.48096415e-02\n",
      "  7.40316579e-03  9.91622149e-03  3.41599123e-02 -9.11961877e-03\n",
      "  2.42127561e-02  1.87870751e-02  1.21841870e-02 -1.85534575e-02\n",
      " -1.77162867e-03  1.67319894e-02  1.97615668e-02  9.83245087e-03\n",
      "  6.22710723e-03 -1.37732255e-03]\n"
     ]
    }
   ],
   "source": [
    "print('Coefficients: %s' % model_fit.params)"
   ]
  },
  {
   "cell_type": "code",
   "execution_count": 11,
   "id": "828f83c3-7e7a-4aca-b0e0-351253cd1e7a",
   "metadata": {},
   "outputs": [],
   "source": [
    "predictions = model_fit.predict(start=len(train), end=len(train)+len(test)-1, dynamic=False)"
   ]
  },
  {
   "cell_type": "code",
   "execution_count": 12,
   "id": "86139438-1861-4140-947d-4cae64275e20",
   "metadata": {},
   "outputs": [
    {
     "name": "stdout",
     "output_type": "stream",
     "text": [
      " predicted=11.871275, expected=12.900000\n",
      " predicted=13.053794, expected=14.600000\n",
      " predicted=13.532591, expected=14.000000\n",
      " predicted=13.243126, expected=13.600000\n",
      " predicted=13.091438, expected=13.500000\n",
      " predicted=13.146989, expected=15.700000\n",
      " predicted=13.176153, expected=13.000000\n"
     ]
    }
   ],
   "source": [
    "for i in range(len(predictions)):\n",
    "    print(' predicted=%f, expected=%f' % (predictions[i], test[i]))"
   ]
  },
  {
   "cell_type": "code",
   "execution_count": 13,
   "id": "4b889c99-463a-4a8f-8e53-268d85ba716d",
   "metadata": {},
   "outputs": [
    {
     "name": "stdout",
     "output_type": "stream",
     "text": [
      " Test RMSE: 1.225\n"
     ]
    }
   ],
   "source": [
    "rmse = sqrt(mean_squared_error(test, predictions))\n",
    "print(' Test RMSE: %.3f' % rmse)"
   ]
  },
  {
   "cell_type": "code",
   "execution_count": 14,
   "id": "7ebba31b-5c68-4e78-bc82-ed2d3988e9ab",
   "metadata": {},
   "outputs": [
    {
     "data": {
      "image/png": "[encoded data removed]",
      "text/plain": [
       "<Figure size 640x480 with 1 Axes>"
      ]
     },
     "metadata": {},
     "output_type": "display_data"
    }
   ],
   "source": [
    "pyplot.plot(test)\n",
    "pyplot.plot(predictions, color='red' )\n",
    "pyplot.show()"
   ]
  },
  {
   "cell_type": "markdown",
   "id": "0c832594-54ec-4ade-8a53-36caf1b87172",
   "metadata": {},
   "source": [
    "## Create and Update AR Model"
   ]
  },
  {
   "cell_type": "code",
   "execution_count": 27,
   "id": "794d80dd-cf07-4c5c-98bb-87682e767dbd",
   "metadata": {},
   "outputs": [
    {
     "name": "stdout",
     "output_type": "stream",
     "text": [
      "3642\n",
      "7\n"
     ]
    }
   ],
   "source": [
    "train = X[1 : len(X) - 7]\n",
    "print(len(train)), (train)\n",
    "test = X[len(X) - 7 : ]\n",
    "print(len(test)), (test)\n",
    "window = 29"
   ]
  },
  {
   "cell_type": "code",
   "execution_count": 28,
   "id": "9ac50217-15fb-44c0-87ef-cd9075399c25",
   "metadata": {},
   "outputs": [],
   "source": [
    "model = AutoReg(train, lags=29)"
   ]
  },
  {
   "cell_type": "code",
   "execution_count": 29,
   "id": "7cb116eb-5e46-4b2d-9bb9-e8e412635b28",
   "metadata": {},
   "outputs": [],
   "source": [
    "model_fit = model.fit()"
   ]
  },
  {
   "cell_type": "code",
   "execution_count": 30,
   "id": "b9b3a149-64b8-4fb8-a62c-cfc1d18f9de1",
   "metadata": {},
   "outputs": [],
   "source": [
    "coef = model_fit.params"
   ]
  },
  {
   "cell_type": "code",
   "execution_count": 31,
   "id": "ea566307-22f3-43c5-9913-0e7606b17e1b",
   "metadata": {},
   "outputs": [
    {
     "data": {
      "text/plain": [
       "array([ 5.57543506e-01,  5.88595221e-01, -9.08257090e-02,  4.82615092e-02,\n",
       "        4.00650265e-02,  3.93020055e-02,  2.59463738e-02,  4.46675960e-02,\n",
       "        1.27681498e-02,  3.74362239e-02, -8.11700276e-04,  4.79081949e-03,\n",
       "        1.84731397e-02,  2.68908418e-02,  5.75906178e-04,  2.48096415e-02,\n",
       "        7.40316579e-03,  9.91622149e-03,  3.41599123e-02, -9.11961877e-03,\n",
       "        2.42127561e-02,  1.87870751e-02,  1.21841870e-02, -1.85534575e-02,\n",
       "       -1.77162867e-03,  1.67319894e-02,  1.97615668e-02,  9.83245087e-03,\n",
       "        6.22710723e-03, -1.37732255e-03])"
      ]
     },
     "execution_count": 31,
     "metadata": {},
     "output_type": "execute_result"
    }
   ],
   "source": [
    "coef"
   ]
  },
  {
   "cell_type": "code",
   "execution_count": 32,
   "id": "c9895fc9-5006-4175-831d-bee71e7422b4",
   "metadata": {},
   "outputs": [
    {
     "data": {
      "text/plain": [
       "array([[12.9],\n",
       "       [ 8.8],\n",
       "       [14.7],\n",
       "       [14.7],\n",
       "       [12.7],\n",
       "       [13.3],\n",
       "       [13.2],\n",
       "       [16.2],\n",
       "       [17.3],\n",
       "       [20.5],\n",
       "       [20.2],\n",
       "       [19.4],\n",
       "       [15.5],\n",
       "       [14.1],\n",
       "       [11. ],\n",
       "       [11.1],\n",
       "       [14. ],\n",
       "       [11.4],\n",
       "       [12.5],\n",
       "       [13.4],\n",
       "       [13.6],\n",
       "       [13.9],\n",
       "       [17.2],\n",
       "       [14.7],\n",
       "       [15.4],\n",
       "       [13.1],\n",
       "       [13.2],\n",
       "       [13.9],\n",
       "       [10. ]])"
      ]
     },
     "execution_count": 32,
     "metadata": {},
     "output_type": "execute_result"
    }
   ],
   "source": [
    "history = train[len(train) - window:]\n",
    "history"
   ]
  },
  {
   "cell_type": "code",
   "execution_count": 33,
   "id": "dde76388-166f-4265-a0da-618de447fb61",
   "metadata": {},
   "outputs": [
    {
     "data": {
      "text/plain": [
       "[array([12.9]),\n",
       " array([8.8]),\n",
       " array([14.7]),\n",
       " array([14.7]),\n",
       " array([12.7]),\n",
       " array([13.3]),\n",
       " array([13.2]),\n",
       " array([16.2]),\n",
       " array([17.3]),\n",
       " array([20.5]),\n",
       " array([20.2]),\n",
       " array([19.4]),\n",
       " array([15.5]),\n",
       " array([14.1]),\n",
       " array([11.]),\n",
       " array([11.1]),\n",
       " array([14.]),\n",
       " array([11.4]),\n",
       " array([12.5]),\n",
       " array([13.4]),\n",
       " array([13.6]),\n",
       " array([13.9]),\n",
       " array([17.2]),\n",
       " array([14.7]),\n",
       " array([15.4]),\n",
       " array([13.1]),\n",
       " array([13.2]),\n",
       " array([13.9]),\n",
       " array([10.])]"
      ]
     },
     "execution_count": 33,
     "metadata": {},
     "output_type": "execute_result"
    }
   ],
   "source": [
    "history = [history[i] for i in range(len(history))]\n",
    "history"
   ]
  },
  {
   "cell_type": "code",
   "execution_count": 34,
   "id": "deb2c73e-6156-4f15-b673-5c08caa08e3d",
   "metadata": {},
   "outputs": [],
   "source": [
    "predictions = list()"
   ]
  },
  {
   "cell_type": "code",
   "execution_count": 35,
   "id": "3c8f1909-a1a2-48a2-9a71-4135331c5e10",
   "metadata": {},
   "outputs": [
    {
     "name": "stdout",
     "output_type": "stream",
     "text": [
      "predicted=6.443496, expected=12.900000\n",
      "predicted=5.181018, expected=12.900000\n",
      "predicted=5.818070, expected=12.900000\n",
      "predicted=6.342922, expected=12.900000\n",
      "predicted=6.948173, expected=12.900000\n",
      "predicted=7.329585, expected=12.900000\n",
      "predicted=8.097867, expected=12.900000\n",
      "predicted=8.275345, expected=12.900000\n",
      "predicted=8.784477, expected=12.900000\n",
      "predicted=8.773601, expected=12.900000\n",
      "predicted=8.833486, expected=12.900000\n",
      "predicted=9.044080, expected=12.900000\n",
      "predicted=9.420551, expected=12.900000\n",
      "predicted=9.426944, expected=12.900000\n",
      "predicted=9.699850, expected=12.900000\n",
      "predicted=9.804235, expected=12.900000\n",
      "predicted=9.957936, expected=12.900000\n",
      "predicted=10.620638, expected=12.900000\n",
      "predicted=10.436422, expected=12.900000\n",
      "predicted=10.932784, expected=12.900000\n",
      "predicted=11.257800, expected=12.900000\n",
      "predicted=11.455184, expected=12.900000\n",
      "predicted=11.210278, expected=12.900000\n",
      "predicted=11.186715, expected=12.900000\n",
      "predicted=11.399212, expected=12.900000\n",
      "predicted=11.689707, expected=12.900000\n",
      "predicted=11.834244, expected=12.900000\n",
      "predicted=11.889042, expected=12.900000\n",
      "predicted=11.871275, expected=12.900000\n",
      "predicted=8.150422, expected=14.600000\n",
      "predicted=6.978770, expected=14.600000\n",
      "predicted=7.601344, expected=14.600000\n",
      "predicted=8.118183, expected=14.600000\n",
      "predicted=8.625178, expected=14.600000\n",
      "predicted=8.959887, expected=14.600000\n",
      "predicted=9.536099, expected=14.600000\n",
      "predicted=9.700808, expected=14.600000\n",
      "predicted=10.183735, expected=14.600000\n",
      "predicted=10.173264, expected=14.600000\n",
      "predicted=10.235066, expected=14.600000\n",
      "predicted=10.473369, expected=14.600000\n",
      "predicted=10.820261, expected=14.600000\n",
      "predicted=10.827690, expected=14.600000\n",
      "predicted=11.147735, expected=14.600000\n",
      "predicted=11.243235, expected=14.600000\n",
      "predicted=11.371155, expected=14.600000\n",
      "predicted=11.811818, expected=14.600000\n",
      "predicted=11.694174, expected=14.600000\n",
      "predicted=12.006519, expected=14.600000\n",
      "predicted=12.248872, expected=14.600000\n",
      "predicted=12.406048, expected=14.600000\n",
      "predicted=12.166709, expected=14.600000\n",
      "predicted=12.143855, expected=14.600000\n",
      "predicted=12.359697, expected=14.600000\n",
      "predicted=12.614622, expected=14.600000\n",
      "predicted=12.741460, expected=14.600000\n",
      "predicted=12.821790, expected=14.600000\n",
      "predicted=12.804022, expected=14.600000\n",
      "predicted=9.151034, expected=14.000000\n",
      "predicted=7.824978, expected=14.000000\n",
      "predicted=8.529596, expected=14.000000\n",
      "predicted=9.114546, expected=14.000000\n",
      "predicted=9.688355, expected=14.000000\n",
      "predicted=10.067172, expected=14.000000\n",
      "predicted=10.719319, expected=14.000000\n",
      "predicted=10.905734, expected=14.000000\n",
      "predicted=11.452303, expected=14.000000\n",
      "predicted=11.440452, expected=14.000000\n",
      "predicted=11.510398, expected=14.000000\n",
      "predicted=11.780106, expected=14.000000\n",
      "predicted=12.172712, expected=14.000000\n",
      "predicted=12.181120, expected=14.000000\n",
      "predicted=12.543341, expected=14.000000\n",
      "predicted=12.651427, expected=14.000000\n",
      "predicted=12.796204, expected=14.000000\n",
      "predicted=13.294939, expected=14.000000\n",
      "predicted=13.161793, expected=14.000000\n",
      "predicted=13.515299, expected=14.000000\n",
      "predicted=13.789590, expected=14.000000\n",
      "predicted=13.967479, expected=14.000000\n",
      "predicted=13.696599, expected=14.000000\n",
      "predicted=13.670733, expected=14.000000\n",
      "predicted=13.915020, expected=14.000000\n",
      "predicted=14.203539, expected=14.000000\n",
      "predicted=14.347093, expected=14.000000\n",
      "predicted=14.438008, expected=14.000000\n",
      "predicted=14.417899, expected=14.000000\n",
      "predicted=8.797877, expected=13.600000\n",
      "predicted=7.526317, expected=13.600000\n",
      "predicted=8.201978, expected=13.600000\n",
      "predicted=8.762888, expected=13.600000\n",
      "predicted=9.313116, expected=13.600000\n",
      "predicted=9.676365, expected=13.600000\n",
      "predicted=10.301712, expected=13.600000\n",
      "predicted=10.480466, expected=13.600000\n",
      "predicted=11.004573, expected=13.600000\n",
      "predicted=10.993209, expected=13.600000\n",
      "predicted=11.060281, expected=13.600000\n",
      "predicted=11.318905, expected=13.600000\n",
      "predicted=11.695376, expected=13.600000\n",
      "predicted=11.703439, expected=13.600000\n",
      "predicted=12.050774, expected=13.600000\n",
      "predicted=12.154418, expected=13.600000\n",
      "predicted=12.293246, expected=13.600000\n",
      "predicted=12.771484, expected=13.600000\n",
      "predicted=12.643810, expected=13.600000\n",
      "predicted=12.982788, expected=13.600000\n",
      "predicted=13.245807, expected=13.600000\n",
      "predicted=13.416386, expected=13.600000\n",
      "predicted=13.156638, expected=13.600000\n",
      "predicted=13.131835, expected=13.600000\n",
      "predicted=13.366083, expected=13.600000\n",
      "predicted=13.642745, expected=13.600000\n",
      "predicted=13.780399, expected=13.600000\n",
      "predicted=13.867578, expected=13.600000\n",
      "predicted=13.848296, expected=13.600000\n",
      "predicted=8.562439, expected=13.500000\n",
      "predicted=7.327209, expected=13.500000\n",
      "predicted=7.983565, expected=13.500000\n",
      "predicted=8.528450, expected=13.500000\n",
      "predicted=9.062957, expected=13.500000\n",
      "predicted=9.415828, expected=13.500000\n",
      "predicted=10.023307, expected=13.500000\n",
      "predicted=10.196954, expected=13.500000\n",
      "predicted=10.706087, expected=13.500000\n",
      "predicted=10.695047, expected=13.500000\n",
      "predicted=10.760203, expected=13.500000\n",
      "predicted=11.011437, expected=13.500000\n",
      "predicted=11.377153, expected=13.500000\n",
      "predicted=11.384985, expected=13.500000\n",
      "predicted=11.722396, expected=13.500000\n",
      "predicted=11.823079, expected=13.500000\n",
      "predicted=11.957940, expected=13.500000\n",
      "predicted=12.422515, expected=13.500000\n",
      "predicted=12.298488, expected=13.500000\n",
      "predicted=12.627781, expected=13.500000\n",
      "predicted=12.883285, expected=13.500000\n",
      "predicted=13.048990, expected=13.500000\n",
      "predicted=12.796663, expected=13.500000\n",
      "predicted=12.772569, expected=13.500000\n",
      "predicted=13.000124, expected=13.500000\n",
      "predicted=13.268882, expected=13.500000\n",
      "predicted=13.402603, expected=13.500000\n",
      "predicted=13.487292, expected=13.500000\n",
      "predicted=13.468560, expected=13.500000\n",
      "predicted=8.503579, expected=15.700000\n",
      "predicted=7.277432, expected=15.700000\n",
      "predicted=7.928962, expected=15.700000\n",
      "predicted=8.469840, expected=15.700000\n",
      "predicted=9.000417, expected=15.700000\n",
      "predicted=9.350693, expected=15.700000\n",
      "predicted=9.953706, expected=15.700000\n",
      "predicted=10.126076, expected=15.700000\n",
      "predicted=10.631465, expected=15.700000\n",
      "predicted=10.620507, expected=15.700000\n",
      "predicted=10.685183, expected=15.700000\n",
      "predicted=10.934570, expected=15.700000\n",
      "predicted=11.297597, expected=15.700000\n",
      "predicted=11.305371, expected=15.700000\n",
      "predicted=11.640302, expected=15.700000\n",
      "predicted=11.740244, expected=15.700000\n",
      "predicted=11.874113, expected=15.700000\n",
      "predicted=12.335272, expected=15.700000\n",
      "predicted=12.212157, expected=15.700000\n",
      "predicted=12.539030, expected=15.700000\n",
      "predicted=12.792655, expected=15.700000\n",
      "predicted=12.957142, expected=15.700000\n",
      "predicted=12.706670, expected=15.700000\n",
      "predicted=12.682753, expected=15.700000\n",
      "predicted=12.908635, expected=15.700000\n",
      "predicted=13.175416, expected=15.700000\n",
      "predicted=13.308154, expected=15.700000\n",
      "predicted=13.392220, expected=15.700000\n",
      "predicted=13.373626, expected=15.700000\n",
      "predicted=9.798488, expected=13.000000\n",
      "predicted=8.372525, expected=13.000000\n",
      "predicted=9.130231, expected=13.000000\n",
      "predicted=9.759251, expected=13.000000\n",
      "predicted=10.376293, expected=13.000000\n",
      "predicted=10.783651, expected=13.000000\n",
      "predicted=11.484932, expected=13.000000\n",
      "predicted=11.685392, expected=13.000000\n",
      "predicted=12.273141, expected=13.000000\n",
      "predicted=12.260397, expected=13.000000\n",
      "predicted=12.335613, expected=13.000000\n",
      "predicted=12.625641, expected=13.000000\n",
      "predicted=13.047828, expected=13.000000\n",
      "predicted=13.056869, expected=13.000000\n",
      "predicted=13.446381, expected=13.000000\n",
      "predicted=13.562610, expected=13.000000\n",
      "predicted=13.718295, expected=13.000000\n",
      "predicted=14.254606, expected=13.000000\n",
      "predicted=14.111428, expected=13.000000\n",
      "predicted=14.491568, expected=13.000000\n",
      "predicted=14.786525, expected=13.000000\n",
      "predicted=14.977817, expected=13.000000\n",
      "predicted=14.686528, expected=13.000000\n",
      "predicted=14.658713, expected=13.000000\n",
      "predicted=14.921405, expected=13.000000\n",
      "predicted=15.231662, expected=13.000000\n",
      "predicted=15.386031, expected=13.000000\n",
      "predicted=15.483797, expected=13.000000\n",
      "predicted=15.462173, expected=13.000000\n"
     ]
    }
   ],
   "source": [
    "for t in range(len(test)):\n",
    "    length = len(history)\n",
    "    lag = [history[i] for i in range(length-window, length)]\n",
    "    yhat = coef[0]\n",
    "    \n",
    "    for d in range(window):\n",
    "        yhat += coef[d+1] * lag[window-d-1]\n",
    "        obs = test[t]\n",
    "        predictions.append(yhat)\n",
    "        history.append(obs)\n",
    "        print('predicted=%f, expected=%f' % (yhat, obs))"
   ]
  },
  {
   "cell_type": "code",
   "execution_count": 39,
   "id": "f6ef6f6c-6e37-449a-835f-ce8ffa5a7768",
   "metadata": {},
   "outputs": [
    {
     "name": "stdout",
     "output_type": "stream",
     "text": [
      "Test RMSE: 2.224\n"
     ]
    }
   ],
   "source": [
    "rmse = sqrt(mean_squared_error(test, predictions[: len(test)]))\n",
    "print('Test RMSE: %.3f' % rmse)"
   ]
  },
  {
   "cell_type": "code",
   "execution_count": 40,
   "id": "e5072af1-e346-407f-beb4-8986994e6eac",
   "metadata": {},
   "outputs": [
    {
     "data": {
      "image/png": "[encoded data removed]",
      "text/plain": [
       "<Figure size 640x480 with 1 Axes>"
      ]
     },
     "metadata": {},
     "output_type": "display_data"
    }
   ],
   "source": [
    "pyplot.plot(test)\n",
    "pyplot.plot(predictions[: len(test)], color='red')\n",
    "pyplot.show()"
   ]
  },
  {
   "cell_type": "code",
   "execution_count": null,
   "id": "0ec54786-b3c2-45fc-847c-e89f8bcfcd5f",
   "metadata": {},
   "outputs": [],
   "source": []
  }
 ],
 "metadata": {
  "kernelspec": {
   "display_name": "Python 3 (ipykernel)",
   "language": "python",
   "name": "python3"
  },
  "language_info": {
   "codemirror_mode": {
    "name": "ipython",
    "version": 3
   },
   "file_extension": ".py",
   "mimetype": "text/x-python",
   "name": "python",
   "nbconvert_exporter": "python",
   "pygments_lexer": "ipython3",
   "version": "3.9.16"
  }
 },
 "nbformat": 4,
 "nbformat_minor": 5
}
